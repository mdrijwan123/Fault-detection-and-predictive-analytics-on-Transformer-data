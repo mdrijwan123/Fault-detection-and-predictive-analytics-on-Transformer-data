{
 "cells": [
  {
   "cell_type": "markdown",
   "metadata": {},
   "source": [
    "### Importing the libraries"
   ]
  },
  {
   "cell_type": "code",
   "execution_count": 1,
   "metadata": {},
   "outputs": [],
   "source": [
    "import sys\n",
    "from sklearn import datasets\n",
    "import scipy as sp\n",
    "import pandas as pd\n",
    "import matplotlib.pyplot as plt\n",
    "import numpy as np\n",
    "from pandas.plotting import scatter_matrix\n",
    "from sklearn.metrics import accuracy_score,confusion_matrix,classification_report\n",
    "from sklearn.linear_model import LogisticRegression,LinearRegression\n",
    "from sklearn.svm import SVC\n",
    "from sklearn.tree import DecisionTreeClassifier\n",
    "from sklearn.model_selection import train_test_split,cross_val_score,KFold\n",
    "from sklearn.neighbors import KNeighborsClassifier\n",
    "from sklearn.discriminant_analysis import LinearDiscriminantAnalysis\n",
    "import seaborn as sb\n",
    "from sklearn.naive_bayes import GaussianNB\n",
    "import os\n",
    "os.chdir(r\"C:\\Users\\Mohammad.Rijwan\\Documents\\Transformer Project\")\n",
    "%matplotlib inline"
   ]
  },
  {
   "cell_type": "markdown",
   "metadata": {},
   "source": [
    "### Importing the datasets"
   ]
  },
  {
   "cell_type": "code",
   "execution_count": 2,
   "metadata": {},
   "outputs": [],
   "source": [
    "df=pd.read_csv(\"Annexure_1_result.csv\")"
   ]
  },
  {
   "cell_type": "code",
   "execution_count": 45,
   "metadata": {},
   "outputs": [],
   "source": [
    "df=df.drop([\"Unnamed: 0\"],axis=1)"
   ]
  },
  {
   "cell_type": "code",
   "execution_count": 48,
   "metadata": {},
   "outputs": [
    {
     "data": {
      "text/html": [
       "<div>\n",
       "<style scoped>\n",
       "    .dataframe tbody tr th:only-of-type {\n",
       "        vertical-align: middle;\n",
       "    }\n",
       "\n",
       "    .dataframe tbody tr th {\n",
       "        vertical-align: top;\n",
       "    }\n",
       "\n",
       "    .dataframe thead th {\n",
       "        text-align: right;\n",
       "    }\n",
       "</style>\n",
       "<table border=\"1\" class=\"dataframe\">\n",
       "  <thead>\n",
       "    <tr style=\"text-align: right;\">\n",
       "      <th></th>\n",
       "      <th>Sample_number</th>\n",
       "      <th>Text_id</th>\n",
       "      <th>Sampled_date</th>\n",
       "      <th>T_site</th>\n",
       "      <th>T_plant</th>\n",
       "      <th>Sampling_point</th>\n",
       "      <th>CH4(ppm)</th>\n",
       "      <th>H2(ppm)</th>\n",
       "      <th>C2H2(ppm)</th>\n",
       "      <th>C2H4(ppm)</th>\n",
       "      <th>C2H6(ppm)</th>\n",
       "      <th>CO(ppm)</th>\n",
       "      <th>CO2(ppm)</th>\n",
       "      <th>TDCG(ppm)</th>\n",
       "      <th>Condition</th>\n",
       "      <th>Fault</th>\n",
       "    </tr>\n",
       "  </thead>\n",
       "  <tbody>\n",
       "    <tr>\n",
       "      <th>0</th>\n",
       "      <td>10735333.0</td>\n",
       "      <td>OIL/NGP-DHC-SUB-55ETDC055001/011117@1159</td>\n",
       "      <td>11/28/2016 0:00</td>\n",
       "      <td>NMD</td>\n",
       "      <td>DHC_ELE_NMD</td>\n",
       "      <td>55ETDC055001_NMD</td>\n",
       "      <td>1.0</td>\n",
       "      <td>12.0</td>\n",
       "      <td>0.0</td>\n",
       "      <td>3.0</td>\n",
       "      <td>0.0</td>\n",
       "      <td>59.0</td>\n",
       "      <td>1619.0</td>\n",
       "      <td>75.0</td>\n",
       "      <td>Condition 1</td>\n",
       "      <td>No fault</td>\n",
       "    </tr>\n",
       "    <tr>\n",
       "      <th>1</th>\n",
       "      <td>10777576.0</td>\n",
       "      <td>OIL/NGU-IOP-ETP-SUB-80XD0011/141117@1801</td>\n",
       "      <td>11/28/2016 0:00</td>\n",
       "      <td>NMD</td>\n",
       "      <td>IWWTP_ELE_NMD</td>\n",
       "      <td>80XD0011_NMD</td>\n",
       "      <td>1.0</td>\n",
       "      <td>7.0</td>\n",
       "      <td>0.0</td>\n",
       "      <td>2.0</td>\n",
       "      <td>0.0</td>\n",
       "      <td>61.0</td>\n",
       "      <td>1634.0</td>\n",
       "      <td>71.0</td>\n",
       "      <td>Condition 1</td>\n",
       "      <td>No fault</td>\n",
       "    </tr>\n",
       "    <tr>\n",
       "      <th>2</th>\n",
       "      <td>10777591.0</td>\n",
       "      <td>OIL/NGU-IOP-ETP-SUB-80XD0012/141117@1801</td>\n",
       "      <td>11/28/2016 0:00</td>\n",
       "      <td>NMD</td>\n",
       "      <td>IWWTP_ELE_NMD</td>\n",
       "      <td>80XD0012_NMD</td>\n",
       "      <td>1.0</td>\n",
       "      <td>6.0</td>\n",
       "      <td>0.0</td>\n",
       "      <td>1.0</td>\n",
       "      <td>0.0</td>\n",
       "      <td>36.0</td>\n",
       "      <td>1514.0</td>\n",
       "      <td>44.0</td>\n",
       "      <td>Condition 1</td>\n",
       "      <td>No fault</td>\n",
       "    </tr>\n",
       "    <tr>\n",
       "      <th>3</th>\n",
       "      <td>10777595.0</td>\n",
       "      <td>OIL/NGU-IOP-ETP-SUB-80XD0013/141117@1801</td>\n",
       "      <td>11/28/2016 0:00</td>\n",
       "      <td>NMD</td>\n",
       "      <td>IWWTP_ELE_NMD</td>\n",
       "      <td>80XD0013_NMD</td>\n",
       "      <td>1.0</td>\n",
       "      <td>9.0</td>\n",
       "      <td>0.0</td>\n",
       "      <td>3.0</td>\n",
       "      <td>0.0</td>\n",
       "      <td>63.0</td>\n",
       "      <td>1172.0</td>\n",
       "      <td>76.0</td>\n",
       "      <td>Condition 1</td>\n",
       "      <td>No fault</td>\n",
       "    </tr>\n",
       "    <tr>\n",
       "      <th>4</th>\n",
       "      <td>10777600.0</td>\n",
       "      <td>OIL/NGU-IOP-ETP-SUB-80XD0014/141117@1801</td>\n",
       "      <td>11/28/2016 0:00</td>\n",
       "      <td>NMD</td>\n",
       "      <td>IWWTP_ELE_NMD</td>\n",
       "      <td>80XD0014_NMD</td>\n",
       "      <td>1.0</td>\n",
       "      <td>12.0</td>\n",
       "      <td>0.0</td>\n",
       "      <td>3.0</td>\n",
       "      <td>0.0</td>\n",
       "      <td>116.0</td>\n",
       "      <td>2206.0</td>\n",
       "      <td>132.0</td>\n",
       "      <td>Condition 1</td>\n",
       "      <td>No fault</td>\n",
       "    </tr>\n",
       "  </tbody>\n",
       "</table>\n",
       "</div>"
      ],
      "text/plain": [
       "   Sample_number                                   Text_id     Sampled_date  \\\n",
       "0     10735333.0  OIL/NGP-DHC-SUB-55ETDC055001/011117@1159  11/28/2016 0:00   \n",
       "1     10777576.0  OIL/NGU-IOP-ETP-SUB-80XD0011/141117@1801  11/28/2016 0:00   \n",
       "2     10777591.0  OIL/NGU-IOP-ETP-SUB-80XD0012/141117@1801  11/28/2016 0:00   \n",
       "3     10777595.0  OIL/NGU-IOP-ETP-SUB-80XD0013/141117@1801  11/28/2016 0:00   \n",
       "4     10777600.0  OIL/NGU-IOP-ETP-SUB-80XD0014/141117@1801  11/28/2016 0:00   \n",
       "\n",
       "  T_site        T_plant    Sampling_point  CH4(ppm)  H2(ppm)  C2H2(ppm)  \\\n",
       "0    NMD    DHC_ELE_NMD  55ETDC055001_NMD       1.0     12.0        0.0   \n",
       "1    NMD  IWWTP_ELE_NMD      80XD0011_NMD       1.0      7.0        0.0   \n",
       "2    NMD  IWWTP_ELE_NMD      80XD0012_NMD       1.0      6.0        0.0   \n",
       "3    NMD  IWWTP_ELE_NMD      80XD0013_NMD       1.0      9.0        0.0   \n",
       "4    NMD  IWWTP_ELE_NMD      80XD0014_NMD       1.0     12.0        0.0   \n",
       "\n",
       "   C2H4(ppm)  C2H6(ppm)  CO(ppm)  CO2(ppm)  TDCG(ppm)    Condition     Fault  \n",
       "0        3.0        0.0     59.0    1619.0       75.0  Condition 1  No fault  \n",
       "1        2.0        0.0     61.0    1634.0       71.0  Condition 1  No fault  \n",
       "2        1.0        0.0     36.0    1514.0       44.0  Condition 1  No fault  \n",
       "3        3.0        0.0     63.0    1172.0       76.0  Condition 1  No fault  \n",
       "4        3.0        0.0    116.0    2206.0      132.0  Condition 1  No fault  "
      ]
     },
     "execution_count": 48,
     "metadata": {},
     "output_type": "execute_result"
    }
   ],
   "source": [
    "df.head()"
   ]
  },
  {
   "cell_type": "code",
   "execution_count": 46,
   "metadata": {},
   "outputs": [
    {
     "name": "stdout",
     "output_type": "stream",
     "text": [
      "<class 'pandas.core.frame.DataFrame'>\n",
      "RangeIndex: 319 entries, 0 to 318\n",
      "Data columns (total 16 columns):\n",
      "Sample_number     319 non-null float64\n",
      "Text_id           319 non-null object\n",
      "Sampled_date      319 non-null object\n",
      "T_site            319 non-null object\n",
      "T_plant           319 non-null object\n",
      "Sampling_point    319 non-null object\n",
      "CH4(ppm)          319 non-null float64\n",
      "H2(ppm)           319 non-null float64\n",
      "C2H2(ppm)         319 non-null float64\n",
      "C2H4(ppm)         319 non-null float64\n",
      "C2H6(ppm)         319 non-null float64\n",
      "CO(ppm)           319 non-null float64\n",
      "CO2(ppm)          319 non-null float64\n",
      "TDCG(ppm)         319 non-null float64\n",
      "Condition         319 non-null object\n",
      "Fault             319 non-null object\n",
      "dtypes: float64(9), object(7)\n",
      "memory usage: 40.0+ KB\n"
     ]
    }
   ],
   "source": [
    "df.info()"
   ]
  },
  {
   "cell_type": "code",
   "execution_count": 47,
   "metadata": {},
   "outputs": [
    {
     "data": {
      "text/html": [
       "<div>\n",
       "<style scoped>\n",
       "    .dataframe tbody tr th:only-of-type {\n",
       "        vertical-align: middle;\n",
       "    }\n",
       "\n",
       "    .dataframe tbody tr th {\n",
       "        vertical-align: top;\n",
       "    }\n",
       "\n",
       "    .dataframe thead th {\n",
       "        text-align: right;\n",
       "    }\n",
       "</style>\n",
       "<table border=\"1\" class=\"dataframe\">\n",
       "  <thead>\n",
       "    <tr style=\"text-align: right;\">\n",
       "      <th></th>\n",
       "      <th>Sample_number</th>\n",
       "      <th>CH4(ppm)</th>\n",
       "      <th>H2(ppm)</th>\n",
       "      <th>C2H2(ppm)</th>\n",
       "      <th>C2H4(ppm)</th>\n",
       "      <th>C2H6(ppm)</th>\n",
       "      <th>CO(ppm)</th>\n",
       "      <th>CO2(ppm)</th>\n",
       "      <th>TDCG(ppm)</th>\n",
       "    </tr>\n",
       "  </thead>\n",
       "  <tbody>\n",
       "    <tr>\n",
       "      <th>count</th>\n",
       "      <td>3.190000e+02</td>\n",
       "      <td>319.000000</td>\n",
       "      <td>319.000000</td>\n",
       "      <td>319.000000</td>\n",
       "      <td>319.000000</td>\n",
       "      <td>319.000000</td>\n",
       "      <td>319.000000</td>\n",
       "      <td>319.000000</td>\n",
       "      <td>319.000000</td>\n",
       "    </tr>\n",
       "    <tr>\n",
       "      <th>mean</th>\n",
       "      <td>1.080189e+07</td>\n",
       "      <td>3.573668</td>\n",
       "      <td>15.714734</td>\n",
       "      <td>0.902821</td>\n",
       "      <td>12.793103</td>\n",
       "      <td>3.115987</td>\n",
       "      <td>136.573668</td>\n",
       "      <td>3007.996865</td>\n",
       "      <td>171.984326</td>\n",
       "    </tr>\n",
       "    <tr>\n",
       "      <th>std</th>\n",
       "      <td>6.442872e+04</td>\n",
       "      <td>7.108330</td>\n",
       "      <td>19.555520</td>\n",
       "      <td>3.402731</td>\n",
       "      <td>60.027204</td>\n",
       "      <td>15.568747</td>\n",
       "      <td>126.814330</td>\n",
       "      <td>1406.348784</td>\n",
       "      <td>153.856105</td>\n",
       "    </tr>\n",
       "    <tr>\n",
       "      <th>min</th>\n",
       "      <td>1.073533e+07</td>\n",
       "      <td>0.000000</td>\n",
       "      <td>0.000000</td>\n",
       "      <td>0.000000</td>\n",
       "      <td>0.000000</td>\n",
       "      <td>0.000000</td>\n",
       "      <td>12.000000</td>\n",
       "      <td>347.000000</td>\n",
       "      <td>17.000000</td>\n",
       "    </tr>\n",
       "    <tr>\n",
       "      <th>25%</th>\n",
       "      <td>1.077754e+07</td>\n",
       "      <td>1.000000</td>\n",
       "      <td>3.000000</td>\n",
       "      <td>0.000000</td>\n",
       "      <td>2.000000</td>\n",
       "      <td>0.000000</td>\n",
       "      <td>59.000000</td>\n",
       "      <td>1927.500000</td>\n",
       "      <td>75.500000</td>\n",
       "    </tr>\n",
       "    <tr>\n",
       "      <th>50%</th>\n",
       "      <td>1.078474e+07</td>\n",
       "      <td>2.000000</td>\n",
       "      <td>9.000000</td>\n",
       "      <td>0.000000</td>\n",
       "      <td>4.000000</td>\n",
       "      <td>0.000000</td>\n",
       "      <td>98.000000</td>\n",
       "      <td>2906.000000</td>\n",
       "      <td>127.000000</td>\n",
       "    </tr>\n",
       "    <tr>\n",
       "      <th>75%</th>\n",
       "      <td>1.079157e+07</td>\n",
       "      <td>3.000000</td>\n",
       "      <td>19.000000</td>\n",
       "      <td>0.000000</td>\n",
       "      <td>7.000000</td>\n",
       "      <td>1.000000</td>\n",
       "      <td>160.000000</td>\n",
       "      <td>3832.000000</td>\n",
       "      <td>195.000000</td>\n",
       "    </tr>\n",
       "    <tr>\n",
       "      <th>max</th>\n",
       "      <td>1.098826e+07</td>\n",
       "      <td>67.000000</td>\n",
       "      <td>125.000000</td>\n",
       "      <td>30.000000</td>\n",
       "      <td>922.000000</td>\n",
       "      <td>230.000000</td>\n",
       "      <td>997.000000</td>\n",
       "      <td>8810.000000</td>\n",
       "      <td>1250.000000</td>\n",
       "    </tr>\n",
       "  </tbody>\n",
       "</table>\n",
       "</div>"
      ],
      "text/plain": [
       "       Sample_number    CH4(ppm)     H2(ppm)   C2H2(ppm)   C2H4(ppm)  \\\n",
       "count   3.190000e+02  319.000000  319.000000  319.000000  319.000000   \n",
       "mean    1.080189e+07    3.573668   15.714734    0.902821   12.793103   \n",
       "std     6.442872e+04    7.108330   19.555520    3.402731   60.027204   \n",
       "min     1.073533e+07    0.000000    0.000000    0.000000    0.000000   \n",
       "25%     1.077754e+07    1.000000    3.000000    0.000000    2.000000   \n",
       "50%     1.078474e+07    2.000000    9.000000    0.000000    4.000000   \n",
       "75%     1.079157e+07    3.000000   19.000000    0.000000    7.000000   \n",
       "max     1.098826e+07   67.000000  125.000000   30.000000  922.000000   \n",
       "\n",
       "        C2H6(ppm)     CO(ppm)     CO2(ppm)    TDCG(ppm)  \n",
       "count  319.000000  319.000000   319.000000   319.000000  \n",
       "mean     3.115987  136.573668  3007.996865   171.984326  \n",
       "std     15.568747  126.814330  1406.348784   153.856105  \n",
       "min      0.000000   12.000000   347.000000    17.000000  \n",
       "25%      0.000000   59.000000  1927.500000    75.500000  \n",
       "50%      0.000000   98.000000  2906.000000   127.000000  \n",
       "75%      1.000000  160.000000  3832.000000   195.000000  \n",
       "max    230.000000  997.000000  8810.000000  1250.000000  "
      ]
     },
     "execution_count": 47,
     "metadata": {},
     "output_type": "execute_result"
    }
   ],
   "source": [
    "df.describe()"
   ]
  },
  {
   "cell_type": "code",
   "execution_count": 74,
   "metadata": {},
   "outputs": [
    {
     "data": {
      "image/png": "[encoded data removed]",
      "text/plain": [
       "<Figure size 576x432 with 1 Axes>"
      ]
     },
     "metadata": {},
     "output_type": "display_data"
    }
   ],
   "source": [
    "plt.figure(figsize=(8,6))\n",
    "plt.style.use('fivethirtyeight')\n",
    "sb.barplot(x=\"Sampling_point\",y=\"TDCG(ppm)\",data=df[(df.Condition=='Condition 4')],ci=None)\n",
    "plt.show()"
   ]
  },
  {
   "cell_type": "code",
   "execution_count": 12,
   "metadata": {},
   "outputs": [],
   "source": [
    "predict_df=df.drop([\"Unnamed: 0\",\"Text_id\",\"Sampled_date\",\"T_site\",\"T_plant\",\"Sampling_point\",\"Condition\"],axis=1)"
   ]
  },
  {
   "cell_type": "code",
   "execution_count": 13,
   "metadata": {},
   "outputs": [],
   "source": [
    "X=predict_df.drop([\"Fault\"],axis=1)\n",
    "y=predict_df[\"Fault\"]"
   ]
  },
  {
   "cell_type": "code",
   "execution_count": 14,
   "metadata": {},
   "outputs": [],
   "source": [
    "X_train, X_test, y_train, y_test = train_test_split(X, y, test_size=0.3, random_state=1)"
   ]
  },
  {
   "cell_type": "code",
   "execution_count": 15,
   "metadata": {},
   "outputs": [],
   "source": [
    "model=[]\n",
    "model.append(('LR',LogisticRegression()))\n",
    "model.append(('LDA',LinearDiscriminantAnalysis()))\n",
    "model.append(('KNN',KNeighborsClassifier()))\n",
    "model.append(('DTC',DecisionTreeClassifier()))\n",
    "model.append(('GNB',GaussianNB()))\n",
    "model.append(('SVC',SVC()))"
   ]
  },
  {
   "cell_type": "code",
   "execution_count": 16,
   "metadata": {},
   "outputs": [
    {
     "name": "stdout",
     "output_type": "stream",
     "text": [
      "Model: LR, Mean: 0.8655855855855856 and std: 0.03772269051589691\n",
      "Model: LDA, Mean: 0.8967567567567567 and std: 0.02332480974096368\n",
      "Model: KNN, Mean: 0.8341741741741742 and std: 0.04133432646799245\n",
      "Model: DTC, Mean: 0.9371771771771771 and std: 0.0230650962567252\n",
      "Model: GNB, Mean: 0.7891891891891891 and std: 0.013423121104280481\n",
      "Model: SVC, Mean: 0.6415615615615615 and std: 0.04949029125564129\n"
     ]
    },
    {
     "name": "stderr",
     "output_type": "stream",
     "text": [
      "C:\\ProgramData\\Anaconda3\\lib\\site-packages\\sklearn\\discriminant_analysis.py:388: UserWarning: Variables are collinear.\n",
      "  warnings.warn(\"Variables are collinear.\")\n"
     ]
    }
   ],
   "source": [
    "seed=6\n",
    "scoring=\"accuracy\"\n",
    "for name,mod in model:\n",
    "    kfold=KFold(n_splits=3,random_state=seed)\n",
    "    cv_result=cross_val_score(mod,X_train,y_train,cv=kfold,scoring=scoring)\n",
    "    print(\"Model: {}, Mean: {} and std: {}\".format(name,cv_result.mean(),cv_result.std()))"
   ]
  },
  {
   "cell_type": "code",
   "execution_count": 17,
   "metadata": {},
   "outputs": [
    {
     "name": "stdout",
     "output_type": "stream",
     "text": [
      "The model is LR and Accuracy: 0.8854166666666666\n",
      "The model is LDA and Accuracy: 0.9583333333333334\n",
      "The model is KNN and Accuracy: 0.875\n",
      "The model is DTC and Accuracy: 0.9583333333333334\n",
      "The model is GNB and Accuracy: 0.7604166666666666\n",
      "The model is SVC and Accuracy: 0.5729166666666666\n"
     ]
    }
   ],
   "source": [
    "for name,mod in model:\n",
    "    mod.fit(X_train,y_train)\n",
    "    prediction=mod.predict(X_test)\n",
    "    val=accuracy_score(y_test,prediction)\n",
    "    print(\"The model is {} and Accuracy: {}\".format(name,val))"
   ]
  },
  {
   "cell_type": "code",
   "execution_count": 18,
   "metadata": {},
   "outputs": [
    {
     "data": {
      "text/html": [
       "<div>\n",
       "<style scoped>\n",
       "    .dataframe tbody tr th:only-of-type {\n",
       "        vertical-align: middle;\n",
       "    }\n",
       "\n",
       "    .dataframe tbody tr th {\n",
       "        vertical-align: top;\n",
       "    }\n",
       "\n",
       "    .dataframe thead th {\n",
       "        text-align: right;\n",
       "    }\n",
       "</style>\n",
       "<table border=\"1\" class=\"dataframe\">\n",
       "  <thead>\n",
       "    <tr style=\"text-align: right;\">\n",
       "      <th></th>\n",
       "      <th>Sample_number</th>\n",
       "      <th>CH4(ppm)</th>\n",
       "      <th>H2(ppm)</th>\n",
       "      <th>C2H2(ppm)</th>\n",
       "      <th>C2H4(ppm)</th>\n",
       "      <th>C2H6(ppm)</th>\n",
       "      <th>CO(ppm)</th>\n",
       "      <th>CO2(ppm)</th>\n",
       "      <th>TDCG(ppm)</th>\n",
       "    </tr>\n",
       "  </thead>\n",
       "  <tbody>\n",
       "    <tr>\n",
       "      <th>123</th>\n",
       "      <td>10770559.0</td>\n",
       "      <td>6.0</td>\n",
       "      <td>0.0</td>\n",
       "      <td>0.0</td>\n",
       "      <td>132.0</td>\n",
       "      <td>21.0</td>\n",
       "      <td>85.0</td>\n",
       "      <td>2769.0</td>\n",
       "      <td>244.0</td>\n",
       "    </tr>\n",
       "    <tr>\n",
       "      <th>110</th>\n",
       "      <td>10784795.0</td>\n",
       "      <td>3.0</td>\n",
       "      <td>55.0</td>\n",
       "      <td>4.0</td>\n",
       "      <td>22.0</td>\n",
       "      <td>0.0</td>\n",
       "      <td>82.0</td>\n",
       "      <td>2985.0</td>\n",
       "      <td>166.0</td>\n",
       "    </tr>\n",
       "    <tr>\n",
       "      <th>80</th>\n",
       "      <td>10777537.0</td>\n",
       "      <td>1.0</td>\n",
       "      <td>0.0</td>\n",
       "      <td>0.0</td>\n",
       "      <td>2.0</td>\n",
       "      <td>1.0</td>\n",
       "      <td>101.0</td>\n",
       "      <td>3122.0</td>\n",
       "      <td>105.0</td>\n",
       "    </tr>\n",
       "    <tr>\n",
       "      <th>131</th>\n",
       "      <td>10783459.0</td>\n",
       "      <td>0.0</td>\n",
       "      <td>0.0</td>\n",
       "      <td>0.0</td>\n",
       "      <td>0.0</td>\n",
       "      <td>0.0</td>\n",
       "      <td>31.0</td>\n",
       "      <td>771.0</td>\n",
       "      <td>31.0</td>\n",
       "    </tr>\n",
       "    <tr>\n",
       "      <th>132</th>\n",
       "      <td>10783474.0</td>\n",
       "      <td>0.0</td>\n",
       "      <td>0.0</td>\n",
       "      <td>0.0</td>\n",
       "      <td>0.0</td>\n",
       "      <td>0.0</td>\n",
       "      <td>63.0</td>\n",
       "      <td>2048.0</td>\n",
       "      <td>63.0</td>\n",
       "    </tr>\n",
       "  </tbody>\n",
       "</table>\n",
       "</div>"
      ],
      "text/plain": [
       "     Sample_number  CH4(ppm)  H2(ppm)  C2H2(ppm)  C2H4(ppm)  C2H6(ppm)  \\\n",
       "123     10770559.0       6.0      0.0        0.0      132.0       21.0   \n",
       "110     10784795.0       3.0     55.0        4.0       22.0        0.0   \n",
       "80      10777537.0       1.0      0.0        0.0        2.0        1.0   \n",
       "131     10783459.0       0.0      0.0        0.0        0.0        0.0   \n",
       "132     10783474.0       0.0      0.0        0.0        0.0        0.0   \n",
       "\n",
       "     CO(ppm)  CO2(ppm)  TDCG(ppm)  \n",
       "123     85.0    2769.0      244.0  \n",
       "110     82.0    2985.0      166.0  \n",
       "80     101.0    3122.0      105.0  \n",
       "131     31.0     771.0       31.0  \n",
       "132     63.0    2048.0       63.0  "
      ]
     },
     "execution_count": 18,
     "metadata": {},
     "output_type": "execute_result"
    }
   ],
   "source": [
    "X_test.head()"
   ]
  },
  {
   "cell_type": "markdown",
   "metadata": {},
   "source": [
    "### DTC i.e Decision tree classifier is more accurate"
   ]
  },
  {
   "cell_type": "markdown",
   "metadata": {},
   "source": [
    "We can predict the output fault based upon the given data let's"
   ]
  },
  {
   "cell_type": "code",
   "execution_count": 36,
   "metadata": {},
   "outputs": [],
   "source": [
    "sample_df=pd.DataFrame({\n",
    "    'Sample_number':[10785678.0,10785646.0],\n",
    "    'CH4(ppm)':[3.5,7.9],\n",
    "    'H2(ppm)':[30,0.5],\n",
    "    'C2H2(ppm)':[2,0.7],\n",
    "    'C2H4(ppm)':[85,14],\n",
    "    'C2H6(ppm)':[19,20],\n",
    "    'CO(ppm)':[80,100],\n",
    "    'CO2(ppm)':[3050,2500],\n",
    "    'TDCG(ppm)':[219.5,143.1]\n",
    "})"
   ]
  },
  {
   "cell_type": "code",
   "execution_count": 42,
   "metadata": {},
   "outputs": [
    {
     "data": {
      "text/html": [
       "<div>\n",
       "<style scoped>\n",
       "    .dataframe tbody tr th:only-of-type {\n",
       "        vertical-align: middle;\n",
       "    }\n",
       "\n",
       "    .dataframe tbody tr th {\n",
       "        vertical-align: top;\n",
       "    }\n",
       "\n",
       "    .dataframe thead th {\n",
       "        text-align: right;\n",
       "    }\n",
       "</style>\n",
       "<table border=\"1\" class=\"dataframe\">\n",
       "  <thead>\n",
       "    <tr style=\"text-align: right;\">\n",
       "      <th></th>\n",
       "      <th>Sample_number</th>\n",
       "      <th>CH4(ppm)</th>\n",
       "      <th>H2(ppm)</th>\n",
       "      <th>C2H2(ppm)</th>\n",
       "      <th>C2H4(ppm)</th>\n",
       "      <th>C2H6(ppm)</th>\n",
       "      <th>CO(ppm)</th>\n",
       "      <th>CO2(ppm)</th>\n",
       "      <th>TDCG(ppm)</th>\n",
       "    </tr>\n",
       "  </thead>\n",
       "  <tbody>\n",
       "    <tr>\n",
       "      <th>0</th>\n",
       "      <td>10785678.0</td>\n",
       "      <td>3.5</td>\n",
       "      <td>30.0</td>\n",
       "      <td>2.0</td>\n",
       "      <td>85</td>\n",
       "      <td>19</td>\n",
       "      <td>80</td>\n",
       "      <td>3050</td>\n",
       "      <td>219.5</td>\n",
       "    </tr>\n",
       "    <tr>\n",
       "      <th>1</th>\n",
       "      <td>10785646.0</td>\n",
       "      <td>7.9</td>\n",
       "      <td>0.5</td>\n",
       "      <td>0.7</td>\n",
       "      <td>14</td>\n",
       "      <td>20</td>\n",
       "      <td>100</td>\n",
       "      <td>2500</td>\n",
       "      <td>143.1</td>\n",
       "    </tr>\n",
       "  </tbody>\n",
       "</table>\n",
       "</div>"
      ],
      "text/plain": [
       "   Sample_number  CH4(ppm)  H2(ppm)  C2H2(ppm)  C2H4(ppm)  C2H6(ppm)  CO(ppm)  \\\n",
       "0     10785678.0       3.5     30.0        2.0         85         19       80   \n",
       "1     10785646.0       7.9      0.5        0.7         14         20      100   \n",
       "\n",
       "   CO2(ppm)  TDCG(ppm)  \n",
       "0      3050      219.5  \n",
       "1      2500      143.1  "
      ]
     },
     "execution_count": 42,
     "metadata": {},
     "output_type": "execute_result"
    }
   ],
   "source": [
    "sample_df"
   ]
  },
  {
   "cell_type": "code",
   "execution_count": 38,
   "metadata": {},
   "outputs": [
    {
     "data": {
      "text/plain": [
       "DecisionTreeClassifier(class_weight=None, criterion='gini', max_depth=None,\n",
       "            max_features=None, max_leaf_nodes=None,\n",
       "            min_impurity_decrease=0.0, min_impurity_split=None,\n",
       "            min_samples_leaf=1, min_samples_split=2,\n",
       "            min_weight_fraction_leaf=0.0, presort=False, random_state=None,\n",
       "            splitter='best')"
      ]
     },
     "execution_count": 38,
     "metadata": {},
     "output_type": "execute_result"
    }
   ],
   "source": [
    "model=DecisionTreeClassifier()\n",
    "model.fit(X_train,y_train)"
   ]
  },
  {
   "cell_type": "code",
   "execution_count": 39,
   "metadata": {},
   "outputs": [],
   "source": [
    "prediction=model.predict(sample_df)"
   ]
  },
  {
   "cell_type": "code",
   "execution_count": 40,
   "metadata": {},
   "outputs": [
    {
     "data": {
      "text/plain": [
       "array(['Need Resampling', 'No fault'], dtype=object)"
      ]
     },
     "execution_count": 40,
     "metadata": {},
     "output_type": "execute_result"
    }
   ],
   "source": [
    "prediction"
   ]
  },
  {
   "cell_type": "code",
   "execution_count": null,
   "metadata": {},
   "outputs": [],
   "source": []
  }
 ],
 "metadata": {
  "kernelspec": {
   "display_name": "Python 3",
   "language": "python",
   "name": "python3"
  },
  "language_info": {
   "codemirror_mode": {
    "name": "ipython",
    "version": 3
   },
   "file_extension": ".py",
   "mimetype": "text/x-python",
   "name": "python",
   "nbconvert_exporter": "python",
   "pygments_lexer": "ipython3",
   "version": "3.6.5"
  }
 },
 "nbformat": 4,
 "nbformat_minor": 2
}
