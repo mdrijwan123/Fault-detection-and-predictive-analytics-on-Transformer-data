{
 "cells": [
  {
   "cell_type": "code",
   "execution_count": 1,
   "metadata": {},
   "outputs": [],
   "source": [
    "import pandas as pd\n",
    "import numpy as np\n",
    "from pandas import Series, DataFrame\n",
    "import os\n",
    "import datetime\n",
    "import matplotlib.pyplot as plt\n",
    "from pylab import rcParams\n",
    "import seaborn as sb\n",
    "import matplotlib.patches as mpatches"
   ]
  },
  {
   "cell_type": "code",
   "execution_count": 2,
   "metadata": {},
   "outputs": [],
   "source": [
    "%matplotlib inline\n",
    "rcParams['figure.figsize'] = 12,6\n",
    "sb.set_style('whitegrid')"
   ]
  },
  {
   "cell_type": "code",
   "execution_count": 3,
   "metadata": {},
   "outputs": [],
   "source": [
    "df=pd.read_excel(\"C_LIMS_RESULT_TRANS_RELIABILITY.xlsx\")\n",
    "detaildf=pd.read_excel('C_TRANSFORMER_DETAIL.xlsx')"
   ]
  },
  {
   "cell_type": "code",
   "execution_count": 9,
   "metadata": {},
   "outputs": [],
   "source": [
    "tdf=df.loc[((df.NAME=='Hydrogen - H2')|(df.NAME=='Methane - CH4')|(df.NAME=='Carbon Monoxide - CO')|(df.NAME=='Carbon Dioxide - CO2')|(df.NAME=='Ethylene - C2H4')|(df.NAME=='Ethane - C2H6')|(df.NAME=='Acetylene- C2H2'))]"
   ]
  },
  {
   "cell_type": "code",
   "execution_count": null,
   "metadata": {},
   "outputs": [],
   "source": []
  },
  {
   "cell_type": "code",
   "execution_count": 10,
   "metadata": {},
   "outputs": [
    {
     "data": {
      "text/html": [
       "<div>\n",
       "<style scoped>\n",
       "    .dataframe tbody tr th:only-of-type {\n",
       "        vertical-align: middle;\n",
       "    }\n",
       "\n",
       "    .dataframe tbody tr th {\n",
       "        vertical-align: top;\n",
       "    }\n",
       "\n",
       "    .dataframe thead th {\n",
       "        text-align: right;\n",
       "    }\n",
       "</style>\n",
       "<table border=\"1\" class=\"dataframe\">\n",
       "  <thead>\n",
       "    <tr style=\"text-align: right;\">\n",
       "      <th></th>\n",
       "      <th>SAMPLE_NUMBER</th>\n",
       "      <th>RESULT_NUMBER</th>\n",
       "      <th>TEXT_ID</th>\n",
       "      <th>SAMPLED_DATE</th>\n",
       "      <th>RECD_DATE</th>\n",
       "      <th>DATE_COMPLETED</th>\n",
       "      <th>DATE_REVIEWED</th>\n",
       "      <th>SAMPLE_STATUS</th>\n",
       "      <th>SAMPLE_IN_SPEC</th>\n",
       "      <th>GROUP_NAME</th>\n",
       "      <th>...</th>\n",
       "      <th>UNITS</th>\n",
       "      <th>DISPLAY_STRING</th>\n",
       "      <th>ORDER_NUMBER</th>\n",
       "      <th>RULE_TYPE</th>\n",
       "      <th>SPEC_RULE</th>\n",
       "      <th>MIN_VALUE</th>\n",
       "      <th>MAX_VALUE</th>\n",
       "      <th>TEXT_VALUE</th>\n",
       "      <th>SAP_FUNC_LOC</th>\n",
       "      <th>SAP_TAG_NO</th>\n",
       "    </tr>\n",
       "  </thead>\n",
       "  <tbody>\n",
       "    <tr>\n",
       "      <th>16</th>\n",
       "      <td>10682276</td>\n",
       "      <td>55691520</td>\n",
       "      <td>OIL/NGU-CPP-SUB-72XD01/051017@1325</td>\n",
       "      <td>2016-11-30</td>\n",
       "      <td>2017-11-07 15:43:55</td>\n",
       "      <td>2017-11-17 18:44:08</td>\n",
       "      <td>2017-11-17 18:44:08</td>\n",
       "      <td>A</td>\n",
       "      <td>F</td>\n",
       "      <td>ELE_RELIABILITY</td>\n",
       "      <td>...</td>\n",
       "      <td>PPM</td>\n",
       "      <td>ppm</td>\n",
       "      <td>22</td>\n",
       "      <td>N</td>\n",
       "      <td>Result &lt;= MAX</td>\n",
       "      <td>NaN</td>\n",
       "      <td>100.0</td>\n",
       "      <td>NaN</td>\n",
       "      <td>NaN</td>\n",
       "      <td>NaN</td>\n",
       "    </tr>\n",
       "    <tr>\n",
       "      <th>19</th>\n",
       "      <td>10682276</td>\n",
       "      <td>55691523</td>\n",
       "      <td>OIL/NGU-CPP-SUB-72XD01/051017@1325</td>\n",
       "      <td>2016-11-30</td>\n",
       "      <td>2017-11-07 15:43:55</td>\n",
       "      <td>2017-11-17 18:44:08</td>\n",
       "      <td>2017-11-17 18:44:08</td>\n",
       "      <td>A</td>\n",
       "      <td>F</td>\n",
       "      <td>ELE_RELIABILITY</td>\n",
       "      <td>...</td>\n",
       "      <td>PPM</td>\n",
       "      <td>ppm</td>\n",
       "      <td>25</td>\n",
       "      <td>N</td>\n",
       "      <td>Result &lt;= MAX</td>\n",
       "      <td>NaN</td>\n",
       "      <td>120.0</td>\n",
       "      <td>NaN</td>\n",
       "      <td>NaN</td>\n",
       "      <td>NaN</td>\n",
       "    </tr>\n",
       "    <tr>\n",
       "      <th>20</th>\n",
       "      <td>10682276</td>\n",
       "      <td>55691524</td>\n",
       "      <td>OIL/NGU-CPP-SUB-72XD01/051017@1325</td>\n",
       "      <td>2016-11-30</td>\n",
       "      <td>2017-11-07 15:43:55</td>\n",
       "      <td>2017-11-17 18:44:08</td>\n",
       "      <td>2017-11-17 18:44:08</td>\n",
       "      <td>A</td>\n",
       "      <td>F</td>\n",
       "      <td>ELE_RELIABILITY</td>\n",
       "      <td>...</td>\n",
       "      <td>PPM</td>\n",
       "      <td>ppm</td>\n",
       "      <td>26</td>\n",
       "      <td>N</td>\n",
       "      <td>Result &lt;= MAX</td>\n",
       "      <td>NaN</td>\n",
       "      <td>350.0</td>\n",
       "      <td>NaN</td>\n",
       "      <td>NaN</td>\n",
       "      <td>NaN</td>\n",
       "    </tr>\n",
       "    <tr>\n",
       "      <th>21</th>\n",
       "      <td>10682276</td>\n",
       "      <td>55691525</td>\n",
       "      <td>OIL/NGU-CPP-SUB-72XD01/051017@1325</td>\n",
       "      <td>2016-11-30</td>\n",
       "      <td>2017-11-07 15:43:55</td>\n",
       "      <td>2017-11-17 18:44:08</td>\n",
       "      <td>2017-11-17 18:44:08</td>\n",
       "      <td>A</td>\n",
       "      <td>F</td>\n",
       "      <td>ELE_RELIABILITY</td>\n",
       "      <td>...</td>\n",
       "      <td>PPM</td>\n",
       "      <td>ppm</td>\n",
       "      <td>27</td>\n",
       "      <td>N</td>\n",
       "      <td>Result &lt;= MAX</td>\n",
       "      <td>NaN</td>\n",
       "      <td>2500.0</td>\n",
       "      <td>NaN</td>\n",
       "      <td>NaN</td>\n",
       "      <td>NaN</td>\n",
       "    </tr>\n",
       "    <tr>\n",
       "      <th>22</th>\n",
       "      <td>10682276</td>\n",
       "      <td>55691526</td>\n",
       "      <td>OIL/NGU-CPP-SUB-72XD01/051017@1325</td>\n",
       "      <td>2016-11-30</td>\n",
       "      <td>2017-11-07 15:43:55</td>\n",
       "      <td>2017-11-17 18:44:08</td>\n",
       "      <td>2017-11-17 18:44:08</td>\n",
       "      <td>A</td>\n",
       "      <td>F</td>\n",
       "      <td>ELE_RELIABILITY</td>\n",
       "      <td>...</td>\n",
       "      <td>PPM</td>\n",
       "      <td>ppm</td>\n",
       "      <td>28</td>\n",
       "      <td>N</td>\n",
       "      <td>Result &lt;= MAX</td>\n",
       "      <td>NaN</td>\n",
       "      <td>50.0</td>\n",
       "      <td>NaN</td>\n",
       "      <td>NaN</td>\n",
       "      <td>NaN</td>\n",
       "    </tr>\n",
       "    <tr>\n",
       "      <th>23</th>\n",
       "      <td>10682276</td>\n",
       "      <td>55691527</td>\n",
       "      <td>OIL/NGU-CPP-SUB-72XD01/051017@1325</td>\n",
       "      <td>2016-11-30</td>\n",
       "      <td>2017-11-07 15:43:55</td>\n",
       "      <td>2017-11-17 18:44:08</td>\n",
       "      <td>2017-11-17 18:44:08</td>\n",
       "      <td>A</td>\n",
       "      <td>F</td>\n",
       "      <td>ELE_RELIABILITY</td>\n",
       "      <td>...</td>\n",
       "      <td>PPM</td>\n",
       "      <td>ppm</td>\n",
       "      <td>29</td>\n",
       "      <td>N</td>\n",
       "      <td>Result &lt;= MAX</td>\n",
       "      <td>NaN</td>\n",
       "      <td>65.0</td>\n",
       "      <td>NaN</td>\n",
       "      <td>NaN</td>\n",
       "      <td>NaN</td>\n",
       "    </tr>\n",
       "    <tr>\n",
       "      <th>24</th>\n",
       "      <td>10682276</td>\n",
       "      <td>55691528</td>\n",
       "      <td>OIL/NGU-CPP-SUB-72XD01/051017@1325</td>\n",
       "      <td>2016-11-30</td>\n",
       "      <td>2017-11-07 15:43:55</td>\n",
       "      <td>2017-11-17 18:44:08</td>\n",
       "      <td>2017-11-17 18:44:08</td>\n",
       "      <td>A</td>\n",
       "      <td>F</td>\n",
       "      <td>ELE_RELIABILITY</td>\n",
       "      <td>...</td>\n",
       "      <td>PPM</td>\n",
       "      <td>ppm</td>\n",
       "      <td>30</td>\n",
       "      <td>N</td>\n",
       "      <td>Result &lt;= MAX</td>\n",
       "      <td>NaN</td>\n",
       "      <td>1.0</td>\n",
       "      <td>NaN</td>\n",
       "      <td>NaN</td>\n",
       "      <td>NaN</td>\n",
       "    </tr>\n",
       "    <tr>\n",
       "      <th>47</th>\n",
       "      <td>10682277</td>\n",
       "      <td>55691557</td>\n",
       "      <td>OIL/NGU-CPP-SUB-72XD01/101017@1325</td>\n",
       "      <td>2015-07-16</td>\n",
       "      <td>2017-11-07 15:43:55</td>\n",
       "      <td>2017-11-17 18:44:08</td>\n",
       "      <td>2017-11-17 18:44:08</td>\n",
       "      <td>A</td>\n",
       "      <td>F</td>\n",
       "      <td>ELE_RELIABILITY</td>\n",
       "      <td>...</td>\n",
       "      <td>PPM</td>\n",
       "      <td>ppm</td>\n",
       "      <td>22</td>\n",
       "      <td>N</td>\n",
       "      <td>Result &lt;= MAX</td>\n",
       "      <td>NaN</td>\n",
       "      <td>100.0</td>\n",
       "      <td>NaN</td>\n",
       "      <td>NaN</td>\n",
       "      <td>NaN</td>\n",
       "    </tr>\n",
       "    <tr>\n",
       "      <th>50</th>\n",
       "      <td>10682277</td>\n",
       "      <td>55691560</td>\n",
       "      <td>OIL/NGU-CPP-SUB-72XD01/101017@1325</td>\n",
       "      <td>2015-07-16</td>\n",
       "      <td>2017-11-07 15:43:55</td>\n",
       "      <td>2017-11-17 18:44:08</td>\n",
       "      <td>2017-11-17 18:44:08</td>\n",
       "      <td>A</td>\n",
       "      <td>F</td>\n",
       "      <td>ELE_RELIABILITY</td>\n",
       "      <td>...</td>\n",
       "      <td>PPM</td>\n",
       "      <td>ppm</td>\n",
       "      <td>25</td>\n",
       "      <td>N</td>\n",
       "      <td>Result &lt;= MAX</td>\n",
       "      <td>NaN</td>\n",
       "      <td>120.0</td>\n",
       "      <td>NaN</td>\n",
       "      <td>NaN</td>\n",
       "      <td>NaN</td>\n",
       "    </tr>\n",
       "    <tr>\n",
       "      <th>51</th>\n",
       "      <td>10682277</td>\n",
       "      <td>55691561</td>\n",
       "      <td>OIL/NGU-CPP-SUB-72XD01/101017@1325</td>\n",
       "      <td>2015-07-16</td>\n",
       "      <td>2017-11-07 15:43:55</td>\n",
       "      <td>2017-11-17 18:44:08</td>\n",
       "      <td>2017-11-17 18:44:08</td>\n",
       "      <td>A</td>\n",
       "      <td>F</td>\n",
       "      <td>ELE_RELIABILITY</td>\n",
       "      <td>...</td>\n",
       "      <td>PPM</td>\n",
       "      <td>ppm</td>\n",
       "      <td>26</td>\n",
       "      <td>N</td>\n",
       "      <td>Result &lt;= MAX</td>\n",
       "      <td>NaN</td>\n",
       "      <td>350.0</td>\n",
       "      <td>NaN</td>\n",
       "      <td>NaN</td>\n",
       "      <td>NaN</td>\n",
       "    </tr>\n",
       "    <tr>\n",
       "      <th>52</th>\n",
       "      <td>10682277</td>\n",
       "      <td>55691562</td>\n",
       "      <td>OIL/NGU-CPP-SUB-72XD01/101017@1325</td>\n",
       "      <td>2015-07-16</td>\n",
       "      <td>2017-11-07 15:43:55</td>\n",
       "      <td>2017-11-17 18:44:08</td>\n",
       "      <td>2017-11-17 18:44:08</td>\n",
       "      <td>A</td>\n",
       "      <td>F</td>\n",
       "      <td>ELE_RELIABILITY</td>\n",
       "      <td>...</td>\n",
       "      <td>PPM</td>\n",
       "      <td>ppm</td>\n",
       "      <td>27</td>\n",
       "      <td>N</td>\n",
       "      <td>Result &lt;= MAX</td>\n",
       "      <td>NaN</td>\n",
       "      <td>2500.0</td>\n",
       "      <td>NaN</td>\n",
       "      <td>NaN</td>\n",
       "      <td>NaN</td>\n",
       "    </tr>\n",
       "    <tr>\n",
       "      <th>53</th>\n",
       "      <td>10682277</td>\n",
       "      <td>55691563</td>\n",
       "      <td>OIL/NGU-CPP-SUB-72XD01/101017@1325</td>\n",
       "      <td>2015-07-16</td>\n",
       "      <td>2017-11-07 15:43:55</td>\n",
       "      <td>2017-11-17 18:44:08</td>\n",
       "      <td>2017-11-17 18:44:08</td>\n",
       "      <td>A</td>\n",
       "      <td>F</td>\n",
       "      <td>ELE_RELIABILITY</td>\n",
       "      <td>...</td>\n",
       "      <td>PPM</td>\n",
       "      <td>ppm</td>\n",
       "      <td>28</td>\n",
       "      <td>N</td>\n",
       "      <td>Result &lt;= MAX</td>\n",
       "      <td>NaN</td>\n",
       "      <td>50.0</td>\n",
       "      <td>NaN</td>\n",
       "      <td>NaN</td>\n",
       "      <td>NaN</td>\n",
       "    </tr>\n",
       "    <tr>\n",
       "      <th>54</th>\n",
       "      <td>10682277</td>\n",
       "      <td>55691564</td>\n",
       "      <td>OIL/NGU-CPP-SUB-72XD01/101017@1325</td>\n",
       "      <td>2015-07-16</td>\n",
       "      <td>2017-11-07 15:43:55</td>\n",
       "      <td>2017-11-17 18:44:08</td>\n",
       "      <td>2017-11-17 18:44:08</td>\n",
       "      <td>A</td>\n",
       "      <td>F</td>\n",
       "      <td>ELE_RELIABILITY</td>\n",
       "      <td>...</td>\n",
       "      <td>PPM</td>\n",
       "      <td>ppm</td>\n",
       "      <td>29</td>\n",
       "      <td>N</td>\n",
       "      <td>Result &lt;= MAX</td>\n",
       "      <td>NaN</td>\n",
       "      <td>65.0</td>\n",
       "      <td>NaN</td>\n",
       "      <td>NaN</td>\n",
       "      <td>NaN</td>\n",
       "    </tr>\n",
       "    <tr>\n",
       "      <th>55</th>\n",
       "      <td>10682277</td>\n",
       "      <td>55691565</td>\n",
       "      <td>OIL/NGU-CPP-SUB-72XD01/101017@1325</td>\n",
       "      <td>2015-07-16</td>\n",
       "      <td>2017-11-07 15:43:55</td>\n",
       "      <td>2017-11-17 18:44:08</td>\n",
       "      <td>2017-11-17 18:44:08</td>\n",
       "      <td>A</td>\n",
       "      <td>F</td>\n",
       "      <td>ELE_RELIABILITY</td>\n",
       "      <td>...</td>\n",
       "      <td>PPM</td>\n",
       "      <td>ppm</td>\n",
       "      <td>30</td>\n",
       "      <td>N</td>\n",
       "      <td>Result &lt;= MAX</td>\n",
       "      <td>NaN</td>\n",
       "      <td>1.0</td>\n",
       "      <td>NaN</td>\n",
       "      <td>NaN</td>\n",
       "      <td>NaN</td>\n",
       "    </tr>\n",
       "  </tbody>\n",
       "</table>\n",
       "<p>14 rows × 41 columns</p>\n",
       "</div>"
      ],
      "text/plain": [
       "    SAMPLE_NUMBER  RESULT_NUMBER                             TEXT_ID  \\\n",
       "16       10682276       55691520  OIL/NGU-CPP-SUB-72XD01/051017@1325   \n",
       "19       10682276       55691523  OIL/NGU-CPP-SUB-72XD01/051017@1325   \n",
       "20       10682276       55691524  OIL/NGU-CPP-SUB-72XD01/051017@1325   \n",
       "21       10682276       55691525  OIL/NGU-CPP-SUB-72XD01/051017@1325   \n",
       "22       10682276       55691526  OIL/NGU-CPP-SUB-72XD01/051017@1325   \n",
       "23       10682276       55691527  OIL/NGU-CPP-SUB-72XD01/051017@1325   \n",
       "24       10682276       55691528  OIL/NGU-CPP-SUB-72XD01/051017@1325   \n",
       "47       10682277       55691557  OIL/NGU-CPP-SUB-72XD01/101017@1325   \n",
       "50       10682277       55691560  OIL/NGU-CPP-SUB-72XD01/101017@1325   \n",
       "51       10682277       55691561  OIL/NGU-CPP-SUB-72XD01/101017@1325   \n",
       "52       10682277       55691562  OIL/NGU-CPP-SUB-72XD01/101017@1325   \n",
       "53       10682277       55691563  OIL/NGU-CPP-SUB-72XD01/101017@1325   \n",
       "54       10682277       55691564  OIL/NGU-CPP-SUB-72XD01/101017@1325   \n",
       "55       10682277       55691565  OIL/NGU-CPP-SUB-72XD01/101017@1325   \n",
       "\n",
       "   SAMPLED_DATE           RECD_DATE      DATE_COMPLETED       DATE_REVIEWED  \\\n",
       "16   2016-11-30 2017-11-07 15:43:55 2017-11-17 18:44:08 2017-11-17 18:44:08   \n",
       "19   2016-11-30 2017-11-07 15:43:55 2017-11-17 18:44:08 2017-11-17 18:44:08   \n",
       "20   2016-11-30 2017-11-07 15:43:55 2017-11-17 18:44:08 2017-11-17 18:44:08   \n",
       "21   2016-11-30 2017-11-07 15:43:55 2017-11-17 18:44:08 2017-11-17 18:44:08   \n",
       "22   2016-11-30 2017-11-07 15:43:55 2017-11-17 18:44:08 2017-11-17 18:44:08   \n",
       "23   2016-11-30 2017-11-07 15:43:55 2017-11-17 18:44:08 2017-11-17 18:44:08   \n",
       "24   2016-11-30 2017-11-07 15:43:55 2017-11-17 18:44:08 2017-11-17 18:44:08   \n",
       "47   2015-07-16 2017-11-07 15:43:55 2017-11-17 18:44:08 2017-11-17 18:44:08   \n",
       "50   2015-07-16 2017-11-07 15:43:55 2017-11-17 18:44:08 2017-11-17 18:44:08   \n",
       "51   2015-07-16 2017-11-07 15:43:55 2017-11-17 18:44:08 2017-11-17 18:44:08   \n",
       "52   2015-07-16 2017-11-07 15:43:55 2017-11-17 18:44:08 2017-11-17 18:44:08   \n",
       "53   2015-07-16 2017-11-07 15:43:55 2017-11-17 18:44:08 2017-11-17 18:44:08   \n",
       "54   2015-07-16 2017-11-07 15:43:55 2017-11-17 18:44:08 2017-11-17 18:44:08   \n",
       "55   2015-07-16 2017-11-07 15:43:55 2017-11-17 18:44:08 2017-11-17 18:44:08   \n",
       "\n",
       "   SAMPLE_STATUS SAMPLE_IN_SPEC       GROUP_NAME    ...     UNITS  \\\n",
       "16             A              F  ELE_RELIABILITY    ...       PPM   \n",
       "19             A              F  ELE_RELIABILITY    ...       PPM   \n",
       "20             A              F  ELE_RELIABILITY    ...       PPM   \n",
       "21             A              F  ELE_RELIABILITY    ...       PPM   \n",
       "22             A              F  ELE_RELIABILITY    ...       PPM   \n",
       "23             A              F  ELE_RELIABILITY    ...       PPM   \n",
       "24             A              F  ELE_RELIABILITY    ...       PPM   \n",
       "47             A              F  ELE_RELIABILITY    ...       PPM   \n",
       "50             A              F  ELE_RELIABILITY    ...       PPM   \n",
       "51             A              F  ELE_RELIABILITY    ...       PPM   \n",
       "52             A              F  ELE_RELIABILITY    ...       PPM   \n",
       "53             A              F  ELE_RELIABILITY    ...       PPM   \n",
       "54             A              F  ELE_RELIABILITY    ...       PPM   \n",
       "55             A              F  ELE_RELIABILITY    ...       PPM   \n",
       "\n",
       "   DISPLAY_STRING ORDER_NUMBER RULE_TYPE      SPEC_RULE MIN_VALUE  MAX_VALUE  \\\n",
       "16            ppm           22         N  Result <= MAX       NaN      100.0   \n",
       "19            ppm           25         N  Result <= MAX       NaN      120.0   \n",
       "20            ppm           26         N  Result <= MAX       NaN      350.0   \n",
       "21            ppm           27         N  Result <= MAX       NaN     2500.0   \n",
       "22            ppm           28         N  Result <= MAX       NaN       50.0   \n",
       "23            ppm           29         N  Result <= MAX       NaN       65.0   \n",
       "24            ppm           30         N  Result <= MAX       NaN        1.0   \n",
       "47            ppm           22         N  Result <= MAX       NaN      100.0   \n",
       "50            ppm           25         N  Result <= MAX       NaN      120.0   \n",
       "51            ppm           26         N  Result <= MAX       NaN      350.0   \n",
       "52            ppm           27         N  Result <= MAX       NaN     2500.0   \n",
       "53            ppm           28         N  Result <= MAX       NaN       50.0   \n",
       "54            ppm           29         N  Result <= MAX       NaN       65.0   \n",
       "55            ppm           30         N  Result <= MAX       NaN        1.0   \n",
       "\n",
       "   TEXT_VALUE SAP_FUNC_LOC SAP_TAG_NO  \n",
       "16        NaN          NaN        NaN  \n",
       "19        NaN          NaN        NaN  \n",
       "20        NaN          NaN        NaN  \n",
       "21        NaN          NaN        NaN  \n",
       "22        NaN          NaN        NaN  \n",
       "23        NaN          NaN        NaN  \n",
       "24        NaN          NaN        NaN  \n",
       "47        NaN          NaN        NaN  \n",
       "50        NaN          NaN        NaN  \n",
       "51        NaN          NaN        NaN  \n",
       "52        NaN          NaN        NaN  \n",
       "53        NaN          NaN        NaN  \n",
       "54        NaN          NaN        NaN  \n",
       "55        NaN          NaN        NaN  \n",
       "\n",
       "[14 rows x 41 columns]"
      ]
     },
     "execution_count": 10,
     "metadata": {},
     "output_type": "execute_result"
    }
   ],
   "source": [
    "trdf=tdf[(tdf.SAMPLING_POINT=='72XD01_NMD')]\n",
    "trdf"
   ]
  },
  {
   "cell_type": "code",
   "execution_count": 11,
   "metadata": {},
   "outputs": [
    {
     "data": {
      "text/plain": [
       "Timestamp('2016-11-30 00:00:00')"
      ]
     },
     "execution_count": 11,
     "metadata": {},
     "output_type": "execute_result"
    }
   ],
   "source": [
    "sp_time1=trdf.SAMPLED_DATE.max()\n",
    "sp_time1"
   ]
  },
  {
   "cell_type": "code",
   "execution_count": 12,
   "metadata": {},
   "outputs": [
    {
     "data": {
      "text/plain": [
       "Timestamp('2015-07-16 00:00:00')"
      ]
     },
     "execution_count": 12,
     "metadata": {},
     "output_type": "execute_result"
    }
   ],
   "source": [
    "sp_time2=trdf.SAMPLED_DATE[8:].max()\n",
    "sp_time2"
   ]
  },
  {
   "cell_type": "code",
   "execution_count": 13,
   "metadata": {},
   "outputs": [],
   "source": [
    "h2_val1=float(trdf[(trdf.NAME=='Hydrogen - H2')&(trdf.SAMPLED_DATE==sp_time1)].ENTRY)\n",
    "ch4_val1=float(trdf[(trdf.NAME=='Methane - CH4')&(trdf.SAMPLED_DATE==sp_time1)].ENTRY)\n",
    "c2h2_val1=float(trdf[(trdf.NAME=='Acetylene- C2H2')&(trdf.SAMPLED_DATE==sp_time1)].ENTRY)\n",
    "c2h4_val1=float(trdf[(trdf.NAME=='Ethylene - C2H4')&(trdf.SAMPLED_DATE==sp_time1)].ENTRY)\n",
    "c2h6_val1=float(trdf[(trdf.NAME=='Ethane - C2H6')&(trdf.SAMPLED_DATE==sp_time1)].ENTRY)\n",
    "co_val1=float(trdf[(trdf.NAME=='Carbon Monoxide - CO')&(trdf.SAMPLED_DATE==sp_time1)].ENTRY)\n",
    "co2_val1=float(trdf[(trdf.NAME=='Carbon Dioxide - CO2')&(trdf.SAMPLED_DATE==sp_time1)].ENTRY)\n",
    "s_name_1=trdf.T_SITE.unique()\n",
    "site_name_1=''.join(s_name_1)\n",
    "t_name_1=trdf[trdf.SAMPLED_DATE==sp_time1].SAMPLING_POINT.unique()\n",
    "trans_name_1=''.join(t_name_1)\n",
    "tdcg_1=h2_val1+ch4_val1+c2h2_val1+c2h4_val1+c2h6_val1+co_val1"
   ]
  },
  {
   "cell_type": "code",
   "execution_count": 14,
   "metadata": {},
   "outputs": [],
   "source": [
    "tab_1=DataFrame({\n",
    "    'Site Name':[site_name_1],\n",
    "    'Transformer ID':[trans_name_1],\n",
    "    'Hydrogen(H2)':[h2_val1],\n",
    "    'Methane(CH4)':[ch4_val1],\n",
    "    'Acetylene(C2H2)':[c2h2_val1],\n",
    "    'Ethylene(C2H4)':[c2h4_val1],\n",
    "    'Ethane(C2H6)':[c2h6_val1],\n",
    "    'Carbon Monoxide(CO)':[co_val1],\n",
    "    'Carbon Dioxide(CO2)':[co2_val1],\n",
    "    'TDCG':[tdcg_1]\n",
    "})"
   ]
  },
  {
   "cell_type": "code",
   "execution_count": null,
   "metadata": {},
   "outputs": [],
   "source": []
  },
  {
   "cell_type": "markdown",
   "metadata": {},
   "source": [
    "## Annexure 1"
   ]
  },
  {
   "cell_type": "code",
   "execution_count": 15,
   "metadata": {},
   "outputs": [
    {
     "data": {
      "text/html": [
       "<div>\n",
       "<style scoped>\n",
       "    .dataframe tbody tr th:only-of-type {\n",
       "        vertical-align: middle;\n",
       "    }\n",
       "\n",
       "    .dataframe tbody tr th {\n",
       "        vertical-align: top;\n",
       "    }\n",
       "\n",
       "    .dataframe thead th {\n",
       "        text-align: right;\n",
       "    }\n",
       "</style>\n",
       "<table border=\"1\" class=\"dataframe\">\n",
       "  <thead>\n",
       "    <tr style=\"text-align: right;\">\n",
       "      <th></th>\n",
       "      <th>Site Name</th>\n",
       "      <th>Transformer ID</th>\n",
       "      <th>Hydrogen(H2)</th>\n",
       "      <th>Methane(CH4)</th>\n",
       "      <th>Acetylene(C2H2)</th>\n",
       "      <th>Ethylene(C2H4)</th>\n",
       "      <th>Ethane(C2H6)</th>\n",
       "      <th>Carbon Monoxide(CO)</th>\n",
       "      <th>Carbon Dioxide(CO2)</th>\n",
       "      <th>TDCG</th>\n",
       "    </tr>\n",
       "  </thead>\n",
       "  <tbody>\n",
       "    <tr>\n",
       "      <th>0</th>\n",
       "      <td>NMD</td>\n",
       "      <td>72XD01_NMD</td>\n",
       "      <td>25.0</td>\n",
       "      <td>16.0</td>\n",
       "      <td>0.0</td>\n",
       "      <td>82.0</td>\n",
       "      <td>13.0</td>\n",
       "      <td>23.0</td>\n",
       "      <td>1369.0</td>\n",
       "      <td>159.0</td>\n",
       "    </tr>\n",
       "  </tbody>\n",
       "</table>\n",
       "</div>"
      ],
      "text/plain": [
       "  Site Name Transformer ID  Hydrogen(H2)  Methane(CH4)  Acetylene(C2H2)  \\\n",
       "0       NMD     72XD01_NMD          25.0          16.0              0.0   \n",
       "\n",
       "   Ethylene(C2H4)  Ethane(C2H6)  Carbon Monoxide(CO)  Carbon Dioxide(CO2)  \\\n",
       "0            82.0          13.0                 23.0               1369.0   \n",
       "\n",
       "    TDCG  \n",
       "0  159.0  "
      ]
     },
     "execution_count": 15,
     "metadata": {},
     "output_type": "execute_result"
    }
   ],
   "source": [
    "tab_1"
   ]
  },
  {
   "cell_type": "code",
   "execution_count": null,
   "metadata": {},
   "outputs": [],
   "source": []
  },
  {
   "cell_type": "code",
   "execution_count": 16,
   "metadata": {},
   "outputs": [],
   "source": [
    "df['SAMPLED_DATE']=pd.to_datetime(df['SAMPLED_DATE'])"
   ]
  },
  {
   "cell_type": "code",
   "execution_count": 17,
   "metadata": {},
   "outputs": [],
   "source": [
    "h2_val2=float(trdf[(trdf.NAME=='Hydrogen - H2')&(trdf.SAMPLED_DATE==sp_time2)].ENTRY)\n",
    "ch4_val2=float(trdf[(trdf.NAME=='Methane - CH4')&(trdf.SAMPLED_DATE==sp_time2)].ENTRY)\n",
    "c2h2_val2=float(trdf[(trdf.NAME=='Acetylene- C2H2')&(trdf.SAMPLED_DATE==sp_time2)].ENTRY)\n",
    "c2h4_val2=float(trdf[(trdf.NAME=='Ethylene - C2H4')&(trdf.SAMPLED_DATE==sp_time2)].ENTRY)\n",
    "c2h6_val2=float(trdf[(trdf.NAME=='Ethane - C2H6')&(trdf.SAMPLED_DATE==sp_time2)].ENTRY)\n",
    "co_val2=float(trdf[(trdf.NAME=='Carbon Monoxide - CO')&(trdf.SAMPLED_DATE==sp_time2)].ENTRY)\n",
    "co2_val2=float(trdf[(trdf.NAME=='Carbon Dioxide - CO2')&(trdf.SAMPLED_DATE==sp_time2)].ENTRY)\n",
    "s_name_2=trdf.T_SITE.unique()\n",
    "site_name_2=''.join(s_name_2)\n",
    "t_name_2=trdf[trdf.SAMPLED_DATE==sp_time2].SAMPLING_POINT.unique()\n",
    "trans_name_2=''.join(t_name_2)\n",
    "tdcg_2=h2_val2+ch4_val2+c2h2_val2+c2h4_val2+c2h6_val2+co_val2"
   ]
  },
  {
   "cell_type": "code",
   "execution_count": 18,
   "metadata": {},
   "outputs": [],
   "source": [
    "tab_2=pd.DataFrame({\n",
    "    'Site Name':[site_name_2],\n",
    "    'Transformer ID':[trans_name_2],\n",
    "    'Hydrogen(H2)':[h2_val2],\n",
    "    'Methane(CH4)':[ch4_val2],\n",
    "    'Acetylene(C2H2)':[c2h2_val2],\n",
    "    'Ethylene(C2H4)':[c2h4_val2],\n",
    "    'Ethane(C2H6)':[c2h6_val2],\n",
    "    'Carbon Monoxide(CO)':[co2_val2],\n",
    "    'Carbon Dioxide(CO2)':[co2_val2],\n",
    "    'TDCG':[tdcg_2]\n",
    "})"
   ]
  },
  {
   "cell_type": "code",
   "execution_count": null,
   "metadata": {},
   "outputs": [],
   "source": []
  },
  {
   "cell_type": "code",
   "execution_count": 19,
   "metadata": {},
   "outputs": [
    {
     "data": {
      "text/html": [
       "<div>\n",
       "<style scoped>\n",
       "    .dataframe tbody tr th:only-of-type {\n",
       "        vertical-align: middle;\n",
       "    }\n",
       "\n",
       "    .dataframe tbody tr th {\n",
       "        vertical-align: top;\n",
       "    }\n",
       "\n",
       "    .dataframe thead th {\n",
       "        text-align: right;\n",
       "    }\n",
       "</style>\n",
       "<table border=\"1\" class=\"dataframe\">\n",
       "  <thead>\n",
       "    <tr style=\"text-align: right;\">\n",
       "      <th></th>\n",
       "      <th>Site Name</th>\n",
       "      <th>Transformer ID</th>\n",
       "      <th>Hydrogen(H2)</th>\n",
       "      <th>Methane(CH4)</th>\n",
       "      <th>Acetylene(C2H2)</th>\n",
       "      <th>Ethylene(C2H4)</th>\n",
       "      <th>Ethane(C2H6)</th>\n",
       "      <th>Carbon Monoxide(CO)</th>\n",
       "      <th>Carbon Dioxide(CO2)</th>\n",
       "      <th>TDCG</th>\n",
       "    </tr>\n",
       "  </thead>\n",
       "  <tbody>\n",
       "    <tr>\n",
       "      <th>0</th>\n",
       "      <td>NMD</td>\n",
       "      <td>72XD01_NMD</td>\n",
       "      <td>13.0</td>\n",
       "      <td>5.0</td>\n",
       "      <td>1.0</td>\n",
       "      <td>28.0</td>\n",
       "      <td>5.0</td>\n",
       "      <td>2577.0</td>\n",
       "      <td>2577.0</td>\n",
       "      <td>132.0</td>\n",
       "    </tr>\n",
       "  </tbody>\n",
       "</table>\n",
       "</div>"
      ],
      "text/plain": [
       "  Site Name Transformer ID  Hydrogen(H2)  Methane(CH4)  Acetylene(C2H2)  \\\n",
       "0       NMD     72XD01_NMD          13.0           5.0              1.0   \n",
       "\n",
       "   Ethylene(C2H4)  Ethane(C2H6)  Carbon Monoxide(CO)  Carbon Dioxide(CO2)  \\\n",
       "0            28.0           5.0               2577.0               2577.0   \n",
       "\n",
       "    TDCG  \n",
       "0  132.0  "
      ]
     },
     "execution_count": 19,
     "metadata": {},
     "output_type": "execute_result"
    }
   ],
   "source": [
    "tab_2"
   ]
  },
  {
   "cell_type": "code",
   "execution_count": 20,
   "metadata": {},
   "outputs": [
    {
     "name": "stdout",
     "output_type": "stream",
     "text": [
      "Carry Normal Operation\n"
     ]
    }
   ],
   "source": [
    "def find_condition(val):\n",
    "    if(val<=720):\n",
    "        print(\"Carry Normal Operation\")\n",
    "        return \"Condition 1\"\n",
    "    elif(val>720 and val<=1920):\n",
    "        print(\"Resampling is required\")\n",
    "        return \"Condition 2\"\n",
    "    elif(val>1920 and val<=4630):\n",
    "        print(\"Resampling is required\")\n",
    "        return \"Condition 3\"\n",
    "    else:\n",
    "        print(\"Resampling is required\")\n",
    "        return \"Condition 4\"\n",
    "con=find_condition(tdcg_1)"
   ]
  },
  {
   "cell_type": "code",
   "execution_count": 21,
   "metadata": {},
   "outputs": [],
   "source": [
    "test1=pd.Series([con])"
   ]
  },
  {
   "cell_type": "code",
   "execution_count": 22,
   "metadata": {},
   "outputs": [],
   "source": [
    "tab_1['Status']=test1"
   ]
  },
  {
   "cell_type": "code",
   "execution_count": 23,
   "metadata": {},
   "outputs": [
    {
     "data": {
      "text/html": [
       "<div>\n",
       "<style scoped>\n",
       "    .dataframe tbody tr th:only-of-type {\n",
       "        vertical-align: middle;\n",
       "    }\n",
       "\n",
       "    .dataframe tbody tr th {\n",
       "        vertical-align: top;\n",
       "    }\n",
       "\n",
       "    .dataframe thead th {\n",
       "        text-align: right;\n",
       "    }\n",
       "</style>\n",
       "<table border=\"1\" class=\"dataframe\">\n",
       "  <thead>\n",
       "    <tr style=\"text-align: right;\">\n",
       "      <th></th>\n",
       "      <th>Site Name</th>\n",
       "      <th>Transformer ID</th>\n",
       "      <th>Hydrogen(H2)</th>\n",
       "      <th>Methane(CH4)</th>\n",
       "      <th>Acetylene(C2H2)</th>\n",
       "      <th>Ethylene(C2H4)</th>\n",
       "      <th>Ethane(C2H6)</th>\n",
       "      <th>Carbon Monoxide(CO)</th>\n",
       "      <th>Carbon Dioxide(CO2)</th>\n",
       "      <th>TDCG</th>\n",
       "      <th>Status</th>\n",
       "    </tr>\n",
       "  </thead>\n",
       "  <tbody>\n",
       "    <tr>\n",
       "      <th>0</th>\n",
       "      <td>NMD</td>\n",
       "      <td>72XD01_NMD</td>\n",
       "      <td>25.0</td>\n",
       "      <td>16.0</td>\n",
       "      <td>0.0</td>\n",
       "      <td>82.0</td>\n",
       "      <td>13.0</td>\n",
       "      <td>23.0</td>\n",
       "      <td>1369.0</td>\n",
       "      <td>159.0</td>\n",
       "      <td>Condition 1</td>\n",
       "    </tr>\n",
       "  </tbody>\n",
       "</table>\n",
       "</div>"
      ],
      "text/plain": [
       "  Site Name Transformer ID  Hydrogen(H2)  Methane(CH4)  Acetylene(C2H2)  \\\n",
       "0       NMD     72XD01_NMD          25.0          16.0              0.0   \n",
       "\n",
       "   Ethylene(C2H4)  Ethane(C2H6)  Carbon Monoxide(CO)  Carbon Dioxide(CO2)  \\\n",
       "0            82.0          13.0                 23.0               1369.0   \n",
       "\n",
       "    TDCG       Status  \n",
       "0  159.0  Condition 1  "
      ]
     },
     "execution_count": 23,
     "metadata": {},
     "output_type": "execute_result"
    }
   ],
   "source": [
    "tab_1"
   ]
  },
  {
   "cell_type": "code",
   "execution_count": 24,
   "metadata": {},
   "outputs": [
    {
     "name": "stdout",
     "output_type": "stream",
     "text": [
      "Carry Normal Operation\n"
     ]
    },
    {
     "data": {
      "text/plain": [
       "'Condition 1'"
      ]
     },
     "execution_count": 24,
     "metadata": {},
     "output_type": "execute_result"
    }
   ],
   "source": [
    "find_condition(tdcg_1)"
   ]
  },
  {
   "cell_type": "code",
   "execution_count": 25,
   "metadata": {},
   "outputs": [],
   "source": [
    "diff=sp_time1-sp_time2"
   ]
  },
  {
   "cell_type": "code",
   "execution_count": 26,
   "metadata": {},
   "outputs": [
    {
     "data": {
      "text/plain": [
       "503"
      ]
     },
     "execution_count": 26,
     "metadata": {},
     "output_type": "execute_result"
    }
   ],
   "source": [
    "diff.days"
   ]
  },
  {
   "cell_type": "code",
   "execution_count": 27,
   "metadata": {},
   "outputs": [],
   "source": [
    "vol_1=float(detaildf[(detaildf.C_TRANSFORMERS=='72XD01_NMD')].OIL_QUANTITY)"
   ]
  },
  {
   "cell_type": "markdown",
   "metadata": {},
   "source": [
    "### Rate Calculation Annexure 2"
   ]
  },
  {
   "cell_type": "code",
   "execution_count": 28,
   "metadata": {},
   "outputs": [
    {
     "data": {
      "text/plain": [
       "-0.0001581351888667992"
      ]
     },
     "execution_count": 28,
     "metadata": {},
     "output_type": "execute_result"
    }
   ],
   "source": [
    "Rate=((tdcg_2-tdcg_1)*vol_1*10**-6)/float(diff.days)\n",
    "Rate"
   ]
  },
  {
   "cell_type": "markdown",
   "metadata": {},
   "source": [
    "### Annexure 3"
   ]
  },
  {
   "cell_type": "code",
   "execution_count": 29,
   "metadata": {},
   "outputs": [],
   "source": [
    "def rate(S0,S1,V,D):\n",
    "    return ((S0-S1)*V*10**-6)/float(D) "
   ]
  },
  {
   "cell_type": "code",
   "execution_count": 30,
   "metadata": {},
   "outputs": [],
   "source": [
    "condition=\"\"\n",
    "samp_int=\"\"\n",
    "recommendation=\"\"\n",
    "R=rate(tdcg_2,tdcg_1,vol_1,diff.days)\n",
    "def find_an3(tdcg_1,R):\n",
    "    if(tdcg_1>4630):\n",
    "        if(R>30|(R>10 and R<30)):\n",
    "            condition='Condition 4'\n",
    "            samp_int=\"Daily\"\n",
    "            recommendation=\"Consider Removal From Service Advice From Manufacturer.\"\n",
    "        elif(R<10):\n",
    "            condition='Condition 4'\n",
    "            samp_int=\"Weekly\"\n",
    "            recommendation=\"Exercise extreme caution. Analyze for individual gases. Plan outrage. Advice manufacturer.\"\n",
    "    elif(tdcg_1>1920 and tdcg_1<=4630):\n",
    "        if(R>30|(R>10 and R<30)):\n",
    "            condition='Condition 3'\n",
    "            samp_int=\"Weekly\"\n",
    "            recommendation=\"Exercise extreme caution. Analyze for individual gases. Plan outrage. Advice manufacturer.\"\n",
    "        elif(R<10):\n",
    "            condition='Condition 3'\n",
    "            samp_int=\"Monthly\"\n",
    "            recommendation=\"Exercise extreme caution. Analyze for individual gases. Plan outrage. Advice manufacturer.\"\n",
    "    elif(tdcg_1>720 and tdcg_1<=1920):\n",
    "        if(R>30|(R>10 and R<30)):\n",
    "            condition='Condition 2'\n",
    "            samp_int=\"Monthly\"\n",
    "            recommendation=\"Exercise caution Analyze for individual gases Determine Load dependence.\"\n",
    "        elif(R<10):\n",
    "            condition='Condition 2'\n",
    "            samp_int=\"Quaterly\"\n",
    "            recommendation=\"Exercise caution Analyze for individual gases Determine Load dependence.\"\n",
    "    elif(R<=720):\n",
    "        if(R>30):\n",
    "            condition='Condition 1'\n",
    "            samp_int=\"Monthly\"\n",
    "            recommendation=\"Exercise caution Analyze for individual gases Determine Load dependence.\"\n",
    "        elif(R>10 and R<30):\n",
    "            condition='Condition 1'\n",
    "            samp_int=\"Quaterly\"\n",
    "            recommendation=\"Exercise caution Analyze for individual gases Determine Load dependence.\" \n",
    "        elif(R<10):\n",
    "            condition='Condition 1'\n",
    "            samp_int=\"Annual\"\n",
    "            recommendation=\"Continue normal operation.\"\n",
    "    return condition,samp_int,recommendation"
   ]
  },
  {
   "cell_type": "markdown",
   "metadata": {},
   "source": [
    "### Calling of Function"
   ]
  },
  {
   "cell_type": "code",
   "execution_count": 31,
   "metadata": {},
   "outputs": [],
   "source": [
    "#Multiple Value Calling"
   ]
  },
  {
   "cell_type": "code",
   "execution_count": 32,
   "metadata": {},
   "outputs": [],
   "source": [
    "condition,samp_int,recommendation=find_an3(tdcg_1,R)"
   ]
  },
  {
   "cell_type": "markdown",
   "metadata": {},
   "source": [
    "### Table for Annexure 3"
   ]
  },
  {
   "cell_type": "code",
   "execution_count": 33,
   "metadata": {},
   "outputs": [],
   "source": [
    "an3df=pd.DataFrame({\n",
    "    'Conditions':[condition],\n",
    "    'TDGC Levels(microlitres/litres)':[tdcg_1],\n",
    "    'TDGC Rate(micro liter/liter/day)':[R],\n",
    "    'Sampling interval':[samp_int],\n",
    "    'Operating Procedures':[recommendation]\n",
    "})"
   ]
  },
  {
   "cell_type": "code",
   "execution_count": 34,
   "metadata": {},
   "outputs": [
    {
     "data": {
      "text/html": [
       "<div>\n",
       "<style scoped>\n",
       "    .dataframe tbody tr th:only-of-type {\n",
       "        vertical-align: middle;\n",
       "    }\n",
       "\n",
       "    .dataframe tbody tr th {\n",
       "        vertical-align: top;\n",
       "    }\n",
       "\n",
       "    .dataframe thead th {\n",
       "        text-align: right;\n",
       "    }\n",
       "</style>\n",
       "<table border=\"1\" class=\"dataframe\">\n",
       "  <thead>\n",
       "    <tr style=\"text-align: right;\">\n",
       "      <th></th>\n",
       "      <th>Conditions</th>\n",
       "      <th>TDGC Levels(microlitres/litres)</th>\n",
       "      <th>TDGC Rate(micro liter/liter/day)</th>\n",
       "      <th>Sampling interval</th>\n",
       "      <th>Operating Procedures</th>\n",
       "    </tr>\n",
       "  </thead>\n",
       "  <tbody>\n",
       "    <tr>\n",
       "      <th>0</th>\n",
       "      <td>Condition 1</td>\n",
       "      <td>159.0</td>\n",
       "      <td>-0.000158</td>\n",
       "      <td>Annual</td>\n",
       "      <td>Continue normal operation.</td>\n",
       "    </tr>\n",
       "  </tbody>\n",
       "</table>\n",
       "</div>"
      ],
      "text/plain": [
       "    Conditions  TDGC Levels(microlitres/litres)  \\\n",
       "0  Condition 1                            159.0   \n",
       "\n",
       "   TDGC Rate(micro liter/liter/day) Sampling interval  \\\n",
       "0                         -0.000158            Annual   \n",
       "\n",
       "         Operating Procedures  \n",
       "0  Continue normal operation.  "
      ]
     },
     "execution_count": 34,
     "metadata": {},
     "output_type": "execute_result"
    }
   ],
   "source": [
    "an3df"
   ]
  },
  {
   "cell_type": "markdown",
   "metadata": {},
   "source": [
    "### Annexure 4 Roger's Ratio"
   ]
  },
  {
   "cell_type": "code",
   "execution_count": 35,
   "metadata": {},
   "outputs": [
    {
     "data": {
      "text/html": [
       "<div>\n",
       "<style scoped>\n",
       "    .dataframe tbody tr th:only-of-type {\n",
       "        vertical-align: middle;\n",
       "    }\n",
       "\n",
       "    .dataframe tbody tr th {\n",
       "        vertical-align: top;\n",
       "    }\n",
       "\n",
       "    .dataframe thead th {\n",
       "        text-align: right;\n",
       "    }\n",
       "</style>\n",
       "<table border=\"1\" class=\"dataframe\">\n",
       "  <thead>\n",
       "    <tr style=\"text-align: right;\">\n",
       "      <th></th>\n",
       "      <th>Site Name</th>\n",
       "      <th>Transformer ID</th>\n",
       "      <th>Hydrogen(H2)</th>\n",
       "      <th>Methane(CH4)</th>\n",
       "      <th>Acetylene(C2H2)</th>\n",
       "      <th>Ethylene(C2H4)</th>\n",
       "      <th>Ethane(C2H6)</th>\n",
       "      <th>Carbon Monoxide(CO)</th>\n",
       "      <th>Carbon Dioxide(CO2)</th>\n",
       "      <th>TDCG</th>\n",
       "      <th>Status</th>\n",
       "    </tr>\n",
       "  </thead>\n",
       "  <tbody>\n",
       "    <tr>\n",
       "      <th>0</th>\n",
       "      <td>NMD</td>\n",
       "      <td>72XD01_NMD</td>\n",
       "      <td>25.0</td>\n",
       "      <td>16.0</td>\n",
       "      <td>0.0</td>\n",
       "      <td>82.0</td>\n",
       "      <td>13.0</td>\n",
       "      <td>23.0</td>\n",
       "      <td>1369.0</td>\n",
       "      <td>159.0</td>\n",
       "      <td>Condition 1</td>\n",
       "    </tr>\n",
       "  </tbody>\n",
       "</table>\n",
       "</div>"
      ],
      "text/plain": [
       "  Site Name Transformer ID  Hydrogen(H2)  Methane(CH4)  Acetylene(C2H2)  \\\n",
       "0       NMD     72XD01_NMD          25.0          16.0              0.0   \n",
       "\n",
       "   Ethylene(C2H4)  Ethane(C2H6)  Carbon Monoxide(CO)  Carbon Dioxide(CO2)  \\\n",
       "0            82.0          13.0                 23.0               1369.0   \n",
       "\n",
       "    TDCG       Status  \n",
       "0  159.0  Condition 1  "
      ]
     },
     "execution_count": 35,
     "metadata": {},
     "output_type": "execute_result"
    }
   ],
   "source": [
    "tab_1"
   ]
  },
  {
   "cell_type": "code",
   "execution_count": 72,
   "metadata": {},
   "outputs": [],
   "source": [
    "R2=float(tab_1['Acetylene(C2H2)']/tab_1['Ethylene(C2H4)'])\n",
    "R1=float(tab_1['Methane(CH4)']/tab_1['Hydrogen(H2)'])\n",
    "R5=float(tab_1['Ethylene(C2H4)']/tab_1['Ethane(C2H6)'])"
   ]
  },
  {
   "cell_type": "code",
   "execution_count": 77,
   "metadata": {},
   "outputs": [
    {
     "data": {
      "text/plain": [
       "6.3076923076923075"
      ]
     },
     "execution_count": 77,
     "metadata": {},
     "output_type": "execute_result"
    }
   ],
   "source": [
    "R5"
   ]
  },
  {
   "cell_type": "code",
   "execution_count": 73,
   "metadata": {},
   "outputs": [],
   "source": [
    "case=\"Default\"\n",
    "sugg_fault=\"Default\"\n",
    "try:\n",
    "    def roger_ratio(R1,R2,R5):\n",
    "        if(R2<0.1):\n",
    "            if(R1>0.1 and R1<1.0):\n",
    "                if(R5<0.1):\n",
    "                    case=\"CASE 0\"\n",
    "                    sugg_fault=\"Unit Normal\"\n",
    "                    return case,sugg_fault\n",
    "                elif(R5>1.0 and R5<3.0):\n",
    "                    case=\"CASE 3\"\n",
    "                    sugg_fault=\"LOW TEMPERATURE THERMAL OVERLOADING\"\n",
    "                    return case,sugg_fault\n",
    "            elif(R1>1.0):\n",
    "                if(R5>1.0 and R5<3.0):\n",
    "                    case=\"CASE 4\" \n",
    "                    sugg_fault=\"THERMAL <700\"\n",
    "                    return case,sugg_fault\n",
    "                elif(R5>3.0):\n",
    "                    case=\"CASE 5\"\n",
    "                    sugg_fault=\"THERMAL >700\"\n",
    "                    return case,sugg_fault\n",
    "        elif(R2<1.0):\n",
    "            if(R1<1.0):\n",
    "                if(R5<1.0):\n",
    "                    case=\"CASE 1\"\n",
    "                    sugg_fault=\"PARTIAL DISCHARGE\"\n",
    "                    return case,sugg_fault\n",
    "        elif(R2>0.1 and R2<3.0):\n",
    "            if(R1>0.1 and R1<1.0):\n",
    "                if(R5>3.0):\n",
    "                    case=\"CASE 2\"\n",
    "                    sugg_fault=\"HIGH ENERGY ARCHING\"\n",
    "                    return case,sugg_fault\n",
    "except:\n",
    "    print(\"The value nat get executed\")"
   ]
  },
  {
   "cell_type": "code",
   "execution_count": 74,
   "metadata": {},
   "outputs": [
    {
     "ename": "TypeError",
     "evalue": "'NoneType' object is not iterable",
     "output_type": "error",
     "traceback": [
      "\u001b[1;31m---------------------------------------------------------------------------\u001b[0m",
      "\u001b[1;31mTypeError\u001b[0m                                 Traceback (most recent call last)",
      "\u001b[1;32m<ipython-input-74-860156505588>\u001b[0m in \u001b[0;36m<module>\u001b[1;34m()\u001b[0m\n\u001b[0;32m      4\u001b[0m     \u001b[0msugg_fault\u001b[0m\u001b[1;33m=\u001b[0m\u001b[1;34m'Invalid'\u001b[0m\u001b[1;33m\u001b[0m\u001b[0m\n\u001b[0;32m      5\u001b[0m \u001b[1;32melse\u001b[0m\u001b[1;33m:\u001b[0m\u001b[1;33m\u001b[0m\u001b[0m\n\u001b[1;32m----> 6\u001b[1;33m     \u001b[0mcase\u001b[0m\u001b[1;33m,\u001b[0m\u001b[0msugg_fault\u001b[0m\u001b[1;33m=\u001b[0m\u001b[0mroger_ratio\u001b[0m\u001b[1;33m(\u001b[0m\u001b[0mR1\u001b[0m\u001b[1;33m,\u001b[0m\u001b[0mR2\u001b[0m\u001b[1;33m,\u001b[0m\u001b[0mR5\u001b[0m\u001b[1;33m)\u001b[0m\u001b[1;33m\u001b[0m\u001b[0m\n\u001b[0m",
      "\u001b[1;31mTypeError\u001b[0m: 'NoneType' object is not iterable"
     ]
    }
   ],
   "source": [
    "if(case==None and sugg_fault==None):\n",
    "    print(\"None\")\n",
    "    case='Invalid'\n",
    "    sugg_fault='Invalid'\n",
    "else:\n",
    "    case,sugg_fault=roger_ratio(R1,R2,R5)"
   ]
  },
  {
   "cell_type": "code",
   "execution_count": 69,
   "metadata": {},
   "outputs": [
    {
     "data": {
      "text/plain": [
       "'CASE 3'"
      ]
     },
     "execution_count": 69,
     "metadata": {},
     "output_type": "execute_result"
    }
   ],
   "source": [
    "case"
   ]
  },
  {
   "cell_type": "code",
   "execution_count": 70,
   "metadata": {},
   "outputs": [
    {
     "data": {
      "text/plain": [
       "'LOW TEMPERATURE THERMAL OVERLOADING'"
      ]
     },
     "execution_count": 70,
     "metadata": {},
     "output_type": "execute_result"
    }
   ],
   "source": [
    "sugg_fault"
   ]
  },
  {
   "cell_type": "code",
   "execution_count": 40,
   "metadata": {},
   "outputs": [],
   "source": [
    "an4df=pd.DataFrame({\n",
    "    'Case':[case],\n",
    "    'R2 C2H2/C2H4':[R2],\n",
    "    'R1 CH4/H2':[R1],\n",
    "    'R5 C2H4/C2H6':[R5],\n",
    "    'Suggested fault diagnosis':[sugg_fault]\n",
    "})"
   ]
  },
  {
   "cell_type": "code",
   "execution_count": 41,
   "metadata": {},
   "outputs": [
    {
     "data": {
      "text/html": [
       "<div>\n",
       "<style scoped>\n",
       "    .dataframe tbody tr th:only-of-type {\n",
       "        vertical-align: middle;\n",
       "    }\n",
       "\n",
       "    .dataframe tbody tr th {\n",
       "        vertical-align: top;\n",
       "    }\n",
       "\n",
       "    .dataframe thead th {\n",
       "        text-align: right;\n",
       "    }\n",
       "</style>\n",
       "<table border=\"1\" class=\"dataframe\">\n",
       "  <thead>\n",
       "    <tr style=\"text-align: right;\">\n",
       "      <th></th>\n",
       "      <th>Case</th>\n",
       "      <th>R2 C2H2/C2H4</th>\n",
       "      <th>R1 CH4/H2</th>\n",
       "      <th>R5 C2H4/C2H6</th>\n",
       "      <th>Suggested fault diagnosis</th>\n",
       "    </tr>\n",
       "  </thead>\n",
       "  <tbody>\n",
       "    <tr>\n",
       "      <th>0</th>\n",
       "      <td>Default</td>\n",
       "      <td>0.64</td>\n",
       "      <td>0.0</td>\n",
       "      <td>6.307692</td>\n",
       "      <td>Default</td>\n",
       "    </tr>\n",
       "  </tbody>\n",
       "</table>\n",
       "</div>"
      ],
      "text/plain": [
       "      Case  R2 C2H2/C2H4  R1 CH4/H2  R5 C2H4/C2H6 Suggested fault diagnosis\n",
       "0  Default          0.64        0.0      6.307692                   Default"
      ]
     },
     "execution_count": 41,
     "metadata": {},
     "output_type": "execute_result"
    }
   ],
   "source": [
    "an4df"
   ]
  },
  {
   "cell_type": "code",
   "execution_count": 42,
   "metadata": {},
   "outputs": [],
   "source": [
    "gas_1=trdf[(trdf.SAMPLED_DATE==sp_time1) & (trdf.NAME!='Carbon Dioxide - CO2')].ENTRY\n",
    "gas_2=trdf[(trdf.SAMPLED_DATE==sp_time2) & (trdf.NAME!='Carbon Dioxide - CO2')].ENTRY"
   ]
  },
  {
   "cell_type": "code",
   "execution_count": 43,
   "metadata": {},
   "outputs": [
    {
     "data": {
      "text/plain": [
       "array(['Hydrogen - H2', 'Methane - CH4', 'Carbon Monoxide - CO',\n",
       "       'Carbon Dioxide - CO2', 'Ethylene - C2H4', 'Ethane - C2H6',\n",
       "       'Acetylene- C2H2'], dtype=object)"
      ]
     },
     "execution_count": 43,
     "metadata": {},
     "output_type": "execute_result"
    }
   ],
   "source": [
    "trdf.NAME.unique()"
   ]
  },
  {
   "cell_type": "code",
   "execution_count": 78,
   "metadata": {},
   "outputs": [
    {
     "data": {
      "text/plain": [
       "array(['72XD01_NMD', '72XD02_NMD', '72XD03_NMD', '72XD04_NMD',\n",
       "       '72XD05_NMD', '72XE01_NMD', '72XE02_NMD', '70SYT1220KV_NMD',\n",
       "       '70SYT2220KV_NMD', '55ETDC055001_NMD', '50XD00001_NMD',\n",
       "       '50XD00002_NMD', '50XD00003_NMD'], dtype=object)"
      ]
     },
     "execution_count": 78,
     "metadata": {},
     "output_type": "execute_result"
    }
   ],
   "source": [
    "(df.SAMPLING_POINT.unique())"
   ]
  },
  {
   "cell_type": "code",
   "execution_count": 71,
   "metadata": {},
   "outputs": [
    {
     "data": {
      "text/plain": [
       "<matplotlib.legend.Legend at 0x2111c6f8f98>"
      ]
     },
     "execution_count": 71,
     "metadata": {},
     "output_type": "execute_result"
    },
    {
     "data": {
      "image/png": "[encoded data removed]",
      "text/plain": [
       "<Figure size 864x432 with 1 Axes>"
      ]
     },
     "metadata": {},
     "output_type": "display_data"
    }
   ],
   "source": [
    "fig = plt.figure()\n",
    "ax = fig.add_axes([.1, .1, 1, 1])\n",
    "gas_1.plot(kind='bar')\n",
    "ax.set_xticks(range(7))\n",
    "ax.set_xticklabels(['H2','CH4','CO','C2H4','C2H6','C2H2'], rotation=30, fontsize='large')\n",
    "ax.set_title(sugg_fault,fontsize='xx-large')\n",
    "ax.set_xlabel('Gases',fontsize='x-large')\n",
    "ax.set_ylabel(('Concentration (PPM)'),fontsize='x-large')\n",
    "\n",
    "H2 = mpatches.Patch(color='blue', label='H2')\n",
    "CH4 = mpatches.Patch(color='orange', label='CH4')\n",
    "CO = mpatches.Patch(color='green', label='CO')\n",
    "C2H4 = mpatches.Patch(color='red', label='C2H4')\n",
    "C2H6 = mpatches.Patch(color='violet', label='C2H6')\n",
    "C2H2 = mpatches.Patch(color='grey', label='C2H2')\n",
    "ax.legend(handles=[H2,CH4,CO,C2H4,C2H6,C2H2], loc='best')"
   ]
  },
  {
   "cell_type": "code",
   "execution_count": 45,
   "metadata": {},
   "outputs": [
    {
     "data": {
      "text/plain": [
       "<matplotlib.legend.Legend at 0x2111c611c18>"
      ]
     },
     "execution_count": 45,
     "metadata": {},
     "output_type": "execute_result"
    },
    {
     "data": {
      "image/png": "[encoded data removed]",
      "text/plain": [
       "<Figure size 1008x576 with 2 Axes>"
      ]
     },
     "metadata": {},
     "output_type": "display_data"
    }
   ],
   "source": [
    "fig = plt.figure(figsize=(14,8))\n",
    "ax1 = fig.add_subplot(211)\n",
    "ax1.plot(gas_1,color='red')\n",
    "ax2=fig.add_subplot(212)\n",
    "ax2.plot(gas_2,color='blue')\n",
    "ax1.set_xticklabels(['H2','CH4','CO','C2H4','C2H6','C2H2'], rotation=0, fontsize='medium')\n",
    "ax1.set_title(sugg_fault)\n",
    "ax1.set_xlabel('Gases')\n",
    "ax1.set_ylabel('Concentration (PPM)')\n",
    "ax1.legend(trdf[trdf.SAMPLED_DATE==sp_time1].SAMPLED_DATE.unique(),loc='best')\n",
    "ax2.set_xticklabels(['H2','CH4','CO','C2H4','C2H6','C2H2'], rotation=0, fontsize='medium')\n",
    "ax2.set_title(sugg_fault)\n",
    "ax2.set_xlabel('Gases')\n",
    "ax2.set_ylabel('Concentration (PPM)')\n",
    "ax2.legend(trdf[trdf.SAMPLED_DATE==sp_time2].SAMPLED_DATE.unique(),loc='best')"
   ]
  },
  {
   "cell_type": "markdown",
   "metadata": {},
   "source": [
    "### Annexture 5"
   ]
  },
  {
   "cell_type": "code",
   "execution_count": 46,
   "metadata": {},
   "outputs": [
    {
     "data": {
      "text/plain": [
       "<matplotlib.legend.Legend at 0x2111b1575f8>"
      ]
     },
     "execution_count": 46,
     "metadata": {},
     "output_type": "execute_result"
    },
    {
     "data": {
      "image/png": "[encoded data removed]",
      "text/plain": [
       "<Figure size 864x432 with 1 Axes>"
      ]
     },
     "metadata": {},
     "output_type": "display_data"
    }
   ],
   "source": [
    "fig = plt.figure()\n",
    "ax = fig.add_axes([.1, .1, 1, 1])\n",
    "gas_1.plot(kind='bar')\n",
    "ax.set_xticks(range(7))\n",
    "ax.set_xticklabels(['H2','CH4','CO','C2H4','C2H6','C2H2'], rotation=0, fontsize='large')\n",
    "ax.set_title(sugg_fault,fontsize='xx-large')\n",
    "ax.set_xlabel('Gases',fontsize='x-large')\n",
    "ax.set_ylabel(('Concentration (PPM)'),fontsize='x-large')\n",
    "\n",
    "H2 = mpatches.Patch(color='blue', label='H2')\n",
    "CH4 = mpatches.Patch(color='orange', label='CH4')\n",
    "CO = mpatches.Patch(color='green', label='CO')\n",
    "C2H4 = mpatches.Patch(color='red', label='C2H4')\n",
    "C2H6 = mpatches.Patch(color='violet', label='C2H6')\n",
    "C2H2 = mpatches.Patch(color='grey', label='C2H2')\n",
    "ax.legend(handles=[H2,CH4,CO,C2H4,C2H6,C2H2], loc='best')"
   ]
  },
  {
   "cell_type": "code",
   "execution_count": 68,
   "metadata": {},
   "outputs": [],
   "source": [
    "def label_bar(ax, bars, text_format, is_inside=True, **kwargs):\n",
    "    \"\"\"\n",
    "    Attach a text label to each bar displaying its y value\n",
    "    \"\"\"\n",
    "    max_y_value = max(bar.get_height() for bar in bars)\n",
    "    if is_inside:\n",
    "        distance = max_y_value * 0.05\n",
    "    else:\n",
    "        distance = max_y_value * 0.01\n",
    "\n",
    "    for bar in bars:\n",
    "        text = text_format.format(bar.get_height())\n",
    "        text_x = bar.get_x() + bar.get_width() / 2\n",
    "        if is_inside:\n",
    "            text_y = bar.get_height() - distance\n",
    "        else:\n",
    "            text_y = bar.get_height() + distance\n",
    "\n",
    "        ax.text(text_x, text_y, text, ha='center', va='bottom', **kwargs)\n",
    "\n",
    "\n",
    "def label_barh(ax, bars, text_format, is_inside=True, **kwargs):\n",
    "    \"\"\"\n",
    "    Attach a text label to each horizontal bar displaying its y value\n",
    "    \"\"\"\n",
    "    max_y_value = max(bar.get_height() for bar in bars)\n",
    "    if is_inside:\n",
    "        distance = max_y_value * 0.05\n",
    "    else:\n",
    "        distance = max_y_value * 0.01\n",
    "\n",
    "\n",
    "    for bar in bars:\n",
    "        text = text_format.format(bar.get_width())\n",
    "        if is_inside:\n",
    "            text_x = bar.get_width() - distance\n",
    "        else:\n",
    "            text_x = bar.get_width() + distance\n",
    "        text_y = bar.get_y() + bar.get_height() / 2\n",
    "\n",
    "        ax.text(text_x, text_y, text, va='center', **kwargs)"
   ]
  },
  {
   "cell_type": "code",
   "execution_count": null,
   "metadata": {},
   "outputs": [],
   "source": [
    "bars = ax.bar(gas_1, width=0.5, align=\"center\")\n",
    "value_format = \"{:.1%}\"  # displaying values as percentage with one fractional digit\n",
    "label_bar(ax, bars, value_format, is_inside=True, color=\"white\")"
   ]
  }
 ],
 "metadata": {
  "kernelspec": {
   "display_name": "Python 3",
   "language": "python",
   "name": "python3"
  },
  "language_info": {
   "codemirror_mode": {
    "name": "ipython",
    "version": 3
   },
   "file_extension": ".py",
   "mimetype": "text/x-python",
   "name": "python",
   "nbconvert_exporter": "python",
   "pygments_lexer": "ipython3",
   "version": "3.6.5"
  }
 },
 "nbformat": 4,
 "nbformat_minor": 2
}
